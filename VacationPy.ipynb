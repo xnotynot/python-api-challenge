{
 "cells": [
  {
   "cell_type": "markdown",
   "metadata": {},
   "source": [
    "# VacationPy\n",
    "---\n",
    "\n",
    "## Starter Code to Import Libraries and Load the Weather and Coordinates Data"
   ]
  },
  {
   "cell_type": "code",
   "execution_count": 19,
   "metadata": {},
   "outputs": [],
   "source": [
    "# Dependencies and Setup\n",
    "import hvplot.pandas\n",
    "import pandas as pd\n",
    "import requests\n",
    "import gmaps\n",
    "import plotly.express as px\n",
    "\n",
    "# Import API key\n",
    "from api_keys import geoapify_key \n"
   ]
  },
  {
   "cell_type": "code",
   "execution_count": 20,
   "metadata": {},
   "outputs": [
    {
     "data": {
      "text/html": [
       "<div>\n",
       "<style scoped>\n",
       "    .dataframe tbody tr th:only-of-type {\n",
       "        vertical-align: middle;\n",
       "    }\n",
       "\n",
       "    .dataframe tbody tr th {\n",
       "        vertical-align: top;\n",
       "    }\n",
       "\n",
       "    .dataframe thead th {\n",
       "        text-align: right;\n",
       "    }\n",
       "</style>\n",
       "<table border=\"1\" class=\"dataframe\">\n",
       "  <thead>\n",
       "    <tr style=\"text-align: right;\">\n",
       "      <th></th>\n",
       "      <th>City_ID</th>\n",
       "      <th>City</th>\n",
       "      <th>Lat</th>\n",
       "      <th>Lng</th>\n",
       "      <th>Max Temp</th>\n",
       "      <th>Humidity</th>\n",
       "      <th>Cloudiness</th>\n",
       "      <th>Wind Speed</th>\n",
       "      <th>Country</th>\n",
       "      <th>Date</th>\n",
       "    </tr>\n",
       "  </thead>\n",
       "  <tbody>\n",
       "    <tr>\n",
       "      <th>0</th>\n",
       "      <td>0</td>\n",
       "      <td>khandyga</td>\n",
       "      <td>62.6667</td>\n",
       "      <td>135.6000</td>\n",
       "      <td>241.83</td>\n",
       "      <td>98</td>\n",
       "      <td>100</td>\n",
       "      <td>1.42</td>\n",
       "      <td>RU</td>\n",
       "      <td>1670189475</td>\n",
       "    </tr>\n",
       "    <tr>\n",
       "      <th>1</th>\n",
       "      <td>1</td>\n",
       "      <td>grindavik</td>\n",
       "      <td>63.8424</td>\n",
       "      <td>-22.4338</td>\n",
       "      <td>276.12</td>\n",
       "      <td>100</td>\n",
       "      <td>75</td>\n",
       "      <td>3.09</td>\n",
       "      <td>IS</td>\n",
       "      <td>1670189475</td>\n",
       "    </tr>\n",
       "    <tr>\n",
       "      <th>2</th>\n",
       "      <td>2</td>\n",
       "      <td>solnechnyy</td>\n",
       "      <td>50.7214</td>\n",
       "      <td>136.6319</td>\n",
       "      <td>248.49</td>\n",
       "      <td>89</td>\n",
       "      <td>17</td>\n",
       "      <td>1.58</td>\n",
       "      <td>RU</td>\n",
       "      <td>1670189476</td>\n",
       "    </tr>\n",
       "    <tr>\n",
       "      <th>3</th>\n",
       "      <td>3</td>\n",
       "      <td>bara</td>\n",
       "      <td>10.3744</td>\n",
       "      <td>10.7288</td>\n",
       "      <td>300.21</td>\n",
       "      <td>21</td>\n",
       "      <td>8</td>\n",
       "      <td>6.00</td>\n",
       "      <td>NG</td>\n",
       "      <td>1670189476</td>\n",
       "    </tr>\n",
       "    <tr>\n",
       "      <th>4</th>\n",
       "      <td>4</td>\n",
       "      <td>castro</td>\n",
       "      <td>-24.7911</td>\n",
       "      <td>-50.0119</td>\n",
       "      <td>292.20</td>\n",
       "      <td>96</td>\n",
       "      <td>100</td>\n",
       "      <td>1.94</td>\n",
       "      <td>BR</td>\n",
       "      <td>1670189476</td>\n",
       "    </tr>\n",
       "  </tbody>\n",
       "</table>\n",
       "</div>"
      ],
      "text/plain": [
       "   City_ID        City      Lat       Lng  Max Temp  Humidity  Cloudiness  \\\n",
       "0        0    khandyga  62.6667  135.6000    241.83        98         100   \n",
       "1        1   grindavik  63.8424  -22.4338    276.12       100          75   \n",
       "2        2  solnechnyy  50.7214  136.6319    248.49        89          17   \n",
       "3        3        bara  10.3744   10.7288    300.21        21           8   \n",
       "4        4      castro -24.7911  -50.0119    292.20        96         100   \n",
       "\n",
       "   Wind Speed Country        Date  \n",
       "0        1.42      RU  1670189475  \n",
       "1        3.09      IS  1670189475  \n",
       "2        1.58      RU  1670189476  \n",
       "3        6.00      NG  1670189476  \n",
       "4        1.94      BR  1670189476  "
      ]
     },
     "execution_count": 20,
     "metadata": {},
     "output_type": "execute_result"
    }
   ],
   "source": [
    "# Load the CSV file created in Part 1 into a Pandas DataFrame\n",
    "city_data_df = pd.read_csv(\"output_data/cities.csv\")\n",
    "\n",
    "# Display sample data\n",
    "city_data_df.head()"
   ]
  },
  {
   "attachments": {},
   "cell_type": "markdown",
   "metadata": {},
   "source": [
    "### Step 1: Create a map that displays a point for every city in the `city_data_df` DataFrame. The size of the point should be the humidity in each city.\n",
    "* Could not get the geo api key working due to restrictions. Did some research to get the plotly working to show the similar results"
   ]
  },
  {
   "cell_type": "code",
   "execution_count": 48,
   "metadata": {},
   "outputs": [
    {
     "data": {
      "application/vnd.plotly.v1+json": {
       "config": {
        "plotlyServerURL": "https://plot.ly"
       },
       "data": [
        {
         "geo": "geo",
         "hovertemplate": "<b>%{hovertext}</b><br><br>Humidity=%{marker.size}<br>Lat=%{lat}<br>Lng=%{lon}<extra></extra>",
         "hovertext": [
          "khandyga",
          "grindavik",
          "solnechnyy",
          "bara",
          "castro",
          "mariel",
          "lubango",
          "kodiak",
          "governador valadares",
          "launceston",
          "ilulissat",
          "new norfolk",
          "rikitea",
          "qaanaaq",
          "bethel",
          "klaksvik",
          "ushuaia",
          "punta arenas",
          "jamestown",
          "butaritari",
          "souillac",
          "lagoa",
          "lethem",
          "saint-philippe",
          "yumen",
          "mount isa",
          "onega",
          "chuy",
          "thompson",
          "port elizabeth",
          "kavieng",
          "batagay",
          "faanui",
          "port alfred",
          "kapaa",
          "bowral",
          "longyearbyen",
          "anori",
          "tiksi",
          "rio verde de mato grosso",
          "noumea",
          "svetlogorsk",
          "mataura",
          "coquimbo",
          "garoua",
          "upernavik",
          "bosaso",
          "khatanga",
          "sao jose da coroa grande",
          "tautira",
          "namibe",
          "cabo san lucas",
          "kahului",
          "vila do maio",
          "chor",
          "mendi",
          "strelka",
          "ponta do sol",
          "illapel",
          "atuona",
          "albany",
          "hobart",
          "semnan",
          "saldanha",
          "marzuq",
          "bengkulu",
          "hermanus",
          "palafrugell",
          "ossora",
          "cayenne",
          "sinnamary",
          "taoudenni",
          "pisco",
          "glenwood springs",
          "caravelas",
          "bluff",
          "los llanos de aridane",
          "chililabombwe",
          "vostok",
          "puerto ayora",
          "vaini",
          "conakry",
          "ulaangom",
          "smithers",
          "yulara",
          "yellowknife",
          "kenai",
          "bathsheba",
          "severo-kurilsk",
          "alenquer",
          "verkhoyansk",
          "taloqan",
          "pacific grove",
          "rawson",
          "gogrial",
          "jiuquan",
          "at-bashi",
          "santo tomas",
          "adrar",
          "nanortalik",
          "luderitz",
          "cape town",
          "nioro",
          "torres",
          "saskylakh",
          "carnarvon",
          "san patricio",
          "teguldet",
          "talnakh",
          "ayagoz",
          "bouca",
          "barrow",
          "sept-iles",
          "izumo",
          "bonito",
          "mae hong son",
          "salekhard",
          "hilo",
          "ust-karsk",
          "qaqortoq",
          "whitehorse",
          "busselton",
          "moratuwa",
          "ciudad bolivar",
          "georgetown",
          "polyarnyy",
          "tasiilaq",
          "vao",
          "hithadhoo",
          "pelhrimov",
          "cherskiy",
          "paamiut",
          "nikolskoye",
          "lerwick",
          "arman",
          "chara",
          "lebu",
          "sidi ali",
          "pevek",
          "teknaf",
          "hasaki",
          "andenes",
          "trairi",
          "banbury",
          "gushikawa",
          "srednekolymsk",
          "sao filipe",
          "anadyr",
          "gat",
          "half moon bay",
          "qui nhon",
          "bulgan",
          "salvador",
          "baturaja",
          "harper",
          "henties bay",
          "victor harbor",
          "taltal",
          "maragogi",
          "namatanai",
          "san cristobal",
          "kanlagay",
          "kapit",
          "east london",
          "chokurdakh",
          "neiafu",
          "indianola",
          "kondinskoye",
          "broken hill",
          "shakiso",
          "mahebourg",
          "sainte-anne-des-monts",
          "volodarskiy",
          "praia da vitoria",
          "charapan",
          "suarez",
          "atlantic beach",
          "niquelandia",
          "lorengau",
          "port hardy",
          "strezhevoy",
          "ancud",
          "westport",
          "haines junction",
          "tura",
          "husavik",
          "port-gentil",
          "ostrovnoy",
          "muros",
          "palmer",
          "poronaysk",
          "axim",
          "ribeira grande",
          "xiaoshi",
          "brainerd",
          "kununurra",
          "dubno",
          "sitka",
          "lardos",
          "presidente dutra",
          "iqaluit",
          "baiyin",
          "waris aliganj",
          "shebunino",
          "baoning",
          "dikson",
          "berezovyy",
          "buckeye",
          "fortuna",
          "san borja",
          "borzna",
          "sobolevo",
          "saint-augustin",
          "matagami",
          "arraial do cabo",
          "wuwei",
          "talcahuano",
          "saint george",
          "high prairie",
          "kaitangata",
          "chernyshevskiy",
          "ouegoa",
          "bredasdorp",
          "winder",
          "lodeynoye pole",
          "shingu",
          "victoria",
          "jurm",
          "ust-kulom",
          "alakurtti",
          "gravdal",
          "avarua",
          "honningsvag",
          "laizhou",
          "lompoc",
          "fillan",
          "grand gaube",
          "ahipara",
          "bairiki",
          "ariquemes",
          "nelidovo",
          "chabahar",
          "alofi",
          "la ronge",
          "santa rosa",
          "kavaratti",
          "auki",
          "touros",
          "den helder",
          "lucapa",
          "monrovia",
          "bubaque",
          "baiquan",
          "bulalacao",
          "helena",
          "san julian",
          "ashland",
          "tuatapere",
          "leshukonskoye",
          "port hawkesbury",
          "finschhafen",
          "tema",
          "ternate",
          "antsohihy",
          "trang",
          "marawi",
          "asau",
          "tefe",
          "sarangani",
          "petropavlovsk-kamchatskiy",
          "sorong",
          "jhawarian",
          "rio grande",
          "tuktoyaktuk",
          "saint-pierre",
          "dudinka",
          "belmonte",
          "mount gambier",
          "jacksonville",
          "eyl",
          "birjand",
          "ketchikan",
          "price",
          "beringovskiy",
          "baykit",
          "rock sound",
          "torbay",
          "peru",
          "guatire",
          "pitea",
          "cravo norte",
          "cardston",
          "talas",
          "baculin",
          "lavrentiya",
          "nuuk",
          "fasa",
          "quatre cocos",
          "coihueco",
          "kollam",
          "vagay",
          "clyde river",
          "ust-kuyga",
          "kruisfontein",
          "college",
          "tabou",
          "nerchinskiy zavod",
          "mahon",
          "mujiayingzi",
          "ust-nera",
          "gualeguay",
          "necochea",
          "nishihara",
          "the valley",
          "manutuke",
          "roald",
          "coruripe",
          "nizwa",
          "raga",
          "puerto baquerizo moreno",
          "alice springs",
          "lagos",
          "nechi",
          "ghanzi",
          "miri",
          "flinders",
          "narsaq",
          "mayo",
          "basco",
          "katsuura",
          "guadix",
          "naranjal",
          "lufilufi",
          "port blair",
          "baneh",
          "burnie",
          "gamba",
          "cidreira",
          "tete",
          "kadoma",
          "aljezur",
          "berlevag",
          "derzhavinsk",
          "bassila",
          "buchanan",
          "smoky lake",
          "williams lake",
          "villamontes",
          "ayan",
          "basoko",
          "wahiawa",
          "nansio",
          "aklavik",
          "maniitsoq",
          "chapais",
          "ayacucho",
          "kloulklubed",
          "ixtapa",
          "nacozari",
          "broome",
          "zheleznodorozhnyy",
          "merauke",
          "naliya",
          "englewood",
          "pidhorodne",
          "peniche",
          "pangnirtung",
          "sangar",
          "otavi",
          "rovenki",
          "vila velha",
          "sonthofen",
          "yelniki",
          "praia",
          "taua",
          "bandarbeyla",
          "pathein",
          "el ejido",
          "otane",
          "salalah",
          "atherton",
          "todiresti",
          "sabang",
          "tilichiki",
          "maumere",
          "soyo",
          "malakal",
          "karratha",
          "hutchinson",
          "morant bay",
          "provideniya",
          "comodoro rivadavia",
          "langxiang",
          "silver city",
          "kirakira",
          "port lincoln",
          "batagay-alyta",
          "carnot",
          "imeni poliny osipenko",
          "leningradskiy",
          "gizo",
          "lixourion",
          "avera",
          "bambanglipuro",
          "daokou",
          "dingle",
          "sivaki",
          "mokhsogollokh",
          "cartagena",
          "okhotsk",
          "hambantota",
          "saint-leu",
          "hualmay",
          "banda aceh",
          "tezu",
          "radolfzell",
          "boma",
          "lichinga",
          "adeje",
          "la tuque",
          "cancun",
          "hondo",
          "manaure",
          "abong mbang",
          "tayoltita",
          "berezovka",
          "aykhal",
          "kachug",
          "gusino",
          "yabelo",
          "dryden",
          "berdsk",
          "bondo",
          "mitsamiouli",
          "camacupa",
          "media luna",
          "nantucket",
          "portneuf",
          "parabel",
          "sosnovo-ozerskoye",
          "fare",
          "kos",
          "cabra",
          "kovdor",
          "padang",
          "halifax",
          "dolores",
          "chekhov",
          "faya",
          "trinidad",
          "kuusamo",
          "buala",
          "hangha",
          "marmashen",
          "concordia",
          "bousso",
          "saint-remy-de-provence",
          "porto walter",
          "esperance",
          "agboville",
          "conde",
          "mehamn",
          "vardo",
          "mbanza-ngungu",
          "kaele",
          "segezha",
          "manjacaze",
          "parnarama",
          "mar del plata",
          "daru",
          "norman wells",
          "grand falls",
          "saint anthony",
          "nelson bay",
          "komsomolskiy",
          "takoradi",
          "paramonga",
          "khor",
          "storm lake",
          "miracatu",
          "nouadhibou",
          "bandiagara",
          "sao felix do xingu",
          "laguna",
          "gigmoto",
          "sinop",
          "prince albert",
          "ust-ishim",
          "guozhen",
          "meulaboh",
          "cabedelo",
          "oyem",
          "tessalit",
          "de-kastri",
          "airai",
          "cuiluan",
          "hami",
          "lincoln",
          "innisfail",
          "noshiro",
          "richards bay",
          "kambove",
          "galveston",
          "sayyan",
          "dunedin",
          "tahta",
          "lima",
          "galdar",
          "buraydah",
          "gazli",
          "kamennomostskiy",
          "norfolk",
          "lakatoro",
          "nome",
          "atambua",
          "ambunti",
          "porto novo",
          "leua",
          "huarmey",
          "sao joao da barra",
          "lebanon",
          "san francisco",
          "kayerkan",
          "daulatpur",
          "spirit river",
          "moree",
          "windhoek",
          "wewak",
          "labuhan",
          "shelburne",
          "sal rei",
          "mananjary",
          "jishui",
          "rundu",
          "hay river",
          "horta",
          "la sarre",
          "ukhta",
          "payo",
          "san jeronimo",
          "samarai",
          "shache",
          "olafsvik",
          "kidal",
          "yeniseysk",
          "san ramon",
          "nadym",
          "vermilion",
          "itarema",
          "wagar",
          "ballina",
          "moose factory",
          "kabwe",
          "novyy urengoy",
          "fort pierce",
          "ishinomaki",
          "otjiwarongo",
          "dhaka",
          "yuci",
          "ribeira brava",
          "praya"
         ],
         "lat": [
          62.6667,
          63.8424,
          50.7214,
          10.3744,
          -24.7911,
          22.9875,
          -14.9172,
          57.79,
          -18.8511,
          -41.45,
          69.2167,
          -42.7826,
          -23.1203,
          77.484,
          41.3712,
          62.2266,
          -54.8,
          -53.15,
          42.097,
          3.0707,
          -20.5167,
          39.05,
          3.3803,
          -21.3585,
          40.2833,
          -20.7333,
          63.9061,
          -33.6971,
          55.7435,
          -33.918,
          -2.5744,
          67.6333,
          -16.4833,
          -33.5906,
          22.0752,
          -34.4667,
          78.2186,
          -3.7728,
          71.6872,
          -18.9181,
          -22.2763,
          52.6333,
          -46.1927,
          -29.9533,
          9.3,
          72.7868,
          11.2842,
          71.9667,
          -8.8978,
          -17.7333,
          -15.1961,
          22.8909,
          20.8947,
          15.1333,
          25.5167,
          -6.1761,
          58.0728,
          32.6667,
          -31.6308,
          -9.8,
          42.6001,
          -42.8794,
          35.5729,
          -33.0117,
          14.4,
          -3.8004,
          -34.4187,
          41.9174,
          59.2353,
          4.9333,
          5.3833,
          22.6783,
          -13.7,
          39.5505,
          -17.7125,
          -46.6,
          28.6585,
          -12.3648,
          46.4856,
          -0.7393,
          -21.2,
          9.538,
          49.9811,
          54.7804,
          -25.2406,
          62.456,
          60.5544,
          13.2167,
          50.6789,
          -1.9417,
          67.5447,
          36.7361,
          36.6177,
          -43.3002,
          8.5332,
          39.7432,
          41.1702,
          14.1079,
          20.5022,
          60.1432,
          -26.6481,
          -33.9258,
          13.35,
          -29.3353,
          71.9167,
          -24.8667,
          28.017,
          57.3064,
          69.4865,
          47.9714,
          6.5105,
          71.2906,
          50.2001,
          35.3667,
          -21.1211,
          19.3003,
          66.53,
          19.7297,
          52.7011,
          60.7167,
          60.7161,
          -33.65,
          6.773,
          8.1222,
          5.4112,
          69.1989,
          65.6145,
          -22.6667,
          -0.6,
          49.4313,
          68.75,
          61.994,
          59.7035,
          60.1545,
          59.7,
          56.9064,
          -37.6167,
          36.0998,
          69.7008,
          20.8624,
          35.7333,
          69.3143,
          -3.2778,
          52.0602,
          26.3544,
          67.45,
          14.8961,
          64.75,
          31.61,
          37.4636,
          13.7667,
          48.8125,
          13.8333,
          -4.1333,
          4.375,
          -22.116,
          -35.5667,
          -25.4,
          -9.0122,
          -3.6667,
          7.7669,
          5.8757,
          2.0167,
          -33.0153,
          70.6333,
          -18.65,
          41.3581,
          59.6481,
          -31.95,
          5.75,
          -20.4081,
          49.124,
          46.4013,
          38.7333,
          19.6667,
          2.954,
          30.3344,
          -14.4739,
          -2.0226,
          50.6996,
          60.7333,
          -41.8697,
          41.1415,
          60.7522,
          25.5198,
          66.0449,
          -0.7193,
          68.0531,
          42.7762,
          42.1584,
          49.2167,
          4.8699,
          38.5167,
          41.2971,
          46.358,
          -15.7667,
          50.4169,
          57.0531,
          36.0942,
          -5.29,
          63.7506,
          36.5583,
          25.0167,
          46.4339,
          25.3378,
          73.5069,
          51.6667,
          33.3703,
          40.5982,
          -14.8167,
          51.2546,
          54.4299,
          51.226,
          49.7502,
          -22.9661,
          37.9281,
          -36.7167,
          37.1041,
          55.4334,
          -46.2817,
          63.0128,
          -20.35,
          -34.5322,
          33.9926,
          60.726,
          33.7333,
          22.2855,
          36.8648,
          61.6864,
          66.9672,
          68.1214,
          -21.2078,
          70.9821,
          37.1717,
          34.6391,
          63.6064,
          -20.0064,
          -35.1667,
          1.3292,
          -9.9133,
          56.2211,
          25.2919,
          -19.0595,
          55.1001,
          14.3122,
          10.5669,
          -8.7676,
          -5.1989,
          52.9599,
          -8.4192,
          6.3005,
          11.2833,
          47.5833,
          12.3254,
          46.5927,
          21.0167,
          40.8167,
          -46.1333,
          64.8989,
          45.6169,
          -6.6024,
          5.667,
          0.8,
          -14.8796,
          7.5,
          7.9986,
          46.4333,
          -3.3542,
          5.4033,
          53.0452,
          -0.8833,
          32.3614,
          -32.035,
          69.4541,
          -21.3393,
          69.4058,
          -15.8631,
          -37.8333,
          30.3322,
          7.9803,
          32.8663,
          55.3422,
          39.5994,
          63.05,
          61.67,
          24.9,
          47.6666,
          40.7537,
          10.4762,
          65.3172,
          6.3017,
          49.2,
          38.6908,
          7.4525,
          65.5833,
          64.1835,
          28.9383,
          -20.2078,
          -36.6167,
          8.8833,
          57.9375,
          70.4692,
          70.0167,
          -34.0033,
          64.8569,
          4.423,
          51.3088,
          39.8885,
          42.1167,
          64.5667,
          -33.1416,
          -38.5473,
          26.1842,
          18.217,
          -38.6833,
          62.5833,
          -10.1256,
          22.9333,
          8.4596,
          -0.9,
          -23.7,
          6.5833,
          8.0942,
          -21.5667,
          4.4148,
          -34.5833,
          60.9167,
          38.8876,
          20.4487,
          35.1333,
          37.2993,
          -2.6667,
          -13.8745,
          11.6667,
          35.9975,
          -41.0667,
          -2.65,
          -30.1811,
          -16.1564,
          34.7333,
          37.3191,
          70.8578,
          51.1,
          9.0081,
          5.8808,
          54.1169,
          52.1415,
          -21.25,
          56.45,
          1.2391,
          21.5028,
          -2.1333,
          68.2191,
          65.4167,
          49.7834,
          -13.1583,
          7.0419,
          20.7,
          25.3366,
          42.2506,
          55.7503,
          -8.4667,
          23.2667,
          39.6478,
          48.5753,
          39.3558,
          66.1451,
          63.9242,
          -19.65,
          48.0833,
          -20.3297,
          47.5167,
          54.6207,
          14.9215,
          -5.9667,
          9.4942,
          16.7833,
          36.7763,
          -39.8833,
          17.0151,
          53.5237,
          47.3167,
          5.8933,
          60.4667,
          -8.6199,
          -6.1349,
          9.5334,
          -20.7377,
          38.0608,
          17.8815,
          64.3833,
          -45.8667,
          46.95,
          32.7701,
          -10.4544,
          -34.7333,
          67.8006,
          4.9409,
          52.4201,
          69.3833,
          -8.103,
          38.2019,
          33.194,
          -7.95,
          35.5639,
          10.9995,
          52.6333,
          61.4681,
          10.3997,
          59.3833,
          6.1241,
          -21.15,
          -11.0964,
          5.5577,
          27.9167,
          47.7333,
          7.0805,
          -13.3128,
          28.1227,
          47.4334,
          21.1743,
          32.45,
          11.7751,
          3.9833,
          24.0833,
          53.7214,
          66,
          53.9606,
          54.7244,
          4.8833,
          49.7833,
          54.7551,
          3.8146,
          -11.3847,
          -12.0167,
          20.1419,
          41.2835,
          46.6906,
          58.6978,
          52.5249,
          -16.7,
          36.8933,
          37.4725,
          67.5662,
          -0.9492,
          44.6453,
          -36.3132,
          55.1431,
          18.3851,
          -14.8333,
          65.9667,
          -8.145,
          7.9411,
          40.8349,
          -31.393,
          10.4795,
          43.7885,
          -8.2686,
          -33.8667,
          5.928,
          -7.2597,
          71.0357,
          70.3705,
          -5.25,
          10.1092,
          63.7415,
          -24.7117,
          -5.6817,
          -38.0023,
          -9.0763,
          65.282,
          47.0461,
          45.0205,
          -32.7167,
          40.4272,
          4.8845,
          -10.6667,
          47.8861,
          42.6411,
          -24.2814,
          20.931,
          14.3501,
          -6.6447,
          38.421,
          13.7796,
          41.7711,
          53.2001,
          57.6935,
          34.3659,
          4.1363,
          -6.9811,
          1.5995,
          20.1986,
          51.4667,
          -8.9266,
          47.72,
          42.8,
          40.8,
          -17.5333,
          40.2039,
          -28.783,
          -10.8764,
          29.3669,
          15.1718,
          -45.8742,
          26.7693,
          -12.0432,
          28.147,
          26.326,
          40.1333,
          44.2983,
          42.1668,
          -16.0999,
          64.5011,
          -9.1061,
          -4.2365,
          6.4965,
          48.2156,
          -10.0681,
          -21.6403,
          36.2081,
          37.7749,
          69.3497,
          26.5015,
          55.7833,
          -29.4667,
          -22.5594,
          -3.5534,
          -6.8844,
          44.0787,
          16.1833,
          -21.2167,
          33.7333,
          -17.9333,
          60.8156,
          38.5333,
          48.8002,
          63.5671,
          -3.7508,
          -11.9472,
          -10.6167,
          38.4167,
          64.8945,
          18.4411,
          58.4497,
          37.7799,
          65.5333,
          40.1667,
          -2.9248,
          16.1525,
          -28.8667,
          51.2585,
          -14.4469,
          66.0833,
          27.4467,
          38.4167,
          -20.4637,
          23.7104,
          37.6803,
          32.65,
          14.9215
         ],
         "legendgroup": "",
         "lon": [
          135.6,
          -22.4338,
          136.6319,
          10.7288,
          -50.0119,
          -82.7536,
          13.4925,
          -152.4072,
          -41.9494,
          147.1667,
          -51.1,
          147.0587,
          -134.9692,
          -69.3632,
          -73.414,
          -6.589,
          -68.3,
          -70.9167,
          -79.2353,
          172.7902,
          57.5167,
          -27.9833,
          -59.7968,
          55.7679,
          97.2,
          139.5,
          38.1404,
          -53.4616,
          -97.8558,
          25.5701,
          150.7967,
          134.6333,
          -151.75,
          26.891,
          -159.319,
          150.4167,
          15.6401,
          -61.6442,
          128.8694,
          -54.8442,
          166.4572,
          29.7333,
          168.8643,
          -71.3436,
          13.4,
          -56.1549,
          49.1816,
          102.5,
          -35.1478,
          -149.15,
          12.1522,
          -109.9124,
          -156.47,
          -23.2167,
          69.7667,
          143.6513,
          93.0344,
          -17.1,
          -71.1653,
          -139.0333,
          -73.9662,
          147.3294,
          53.3971,
          17.9442,
          46.4667,
          102.2655,
          19.2345,
          3.1631,
          163.0719,
          -52.3333,
          -52.95,
          -3.9836,
          -76.2167,
          -107.3248,
          -39.2481,
          168.3333,
          -17.9182,
          27.8229,
          135.8833,
          -90.3518,
          -175.2,
          -13.6773,
          92.0667,
          -127.1743,
          130.9889,
          -114.3525,
          -151.2583,
          -59.5167,
          156.125,
          -54.7383,
          133.385,
          69.5345,
          -121.9166,
          -65.1023,
          28.1004,
          98.5174,
          75.8106,
          121.1414,
          -10.0711,
          -45.2371,
          15.1594,
          18.4232,
          -15.75,
          -49.7269,
          114.0833,
          113.6333,
          -97.5169,
          88.1667,
          88.3972,
          80.4392,
          18.2733,
          -156.7887,
          -66.3821,
          132.7667,
          -56.4819,
          97.9685,
          66.6019,
          -155.09,
          118.8077,
          -46.0333,
          -135.0538,
          115.3333,
          79.8816,
          -63.5497,
          100.3354,
          33.4478,
          -37.6368,
          167.4833,
          73.0833,
          15.2234,
          161.3,
          -49.6678,
          30.7861,
          -1.1494,
          150.1667,
          118.2631,
          -73.65,
          0.4206,
          170.3133,
          92.3058,
          140.8333,
          16.1194,
          -39.2689,
          -1.3403,
          127.8686,
          153.6833,
          -24.4956,
          177.4833,
          34.7642,
          -122.4286,
          109.2333,
          103.5347,
          -88.9167,
          104.1667,
          -7.7169,
          14.2845,
          138.6167,
          -70.4833,
          -35.2225,
          152.4333,
          -72.225,
          121.2915,
          112.9333,
          27.9116,
          147.9167,
          -173.9833,
          -93.5574,
          67.41,
          141.4333,
          38.9167,
          57.7,
          -66.4924,
          48.5409,
          -27.0667,
          -102.2333,
          -76.6964,
          -81.3987,
          -48.4597,
          147.2712,
          -127.4199,
          77.5889,
          -73.8203,
          -73.3579,
          -137.5108,
          90.2201,
          -17.3389,
          8.7815,
          39.5131,
          -9.0603,
          -72.3287,
          143.1167,
          -2.2405,
          -28.7,
          124.1209,
          -94.2008,
          128.7333,
          25.7343,
          -135.33,
          28.0157,
          -44.49,
          -68.5145,
          104.2081,
          85.6333,
          141.8603,
          110.026,
          80.5464,
          135.7,
          -112.5838,
          -124.1573,
          -66.85,
          32.4269,
          31.8996,
          -58.6502,
          -77.6328,
          -42.0278,
          102.6414,
          -73.1167,
          -113.5841,
          -116.4858,
          169.8464,
          112.4714,
          164.4333,
          20.0403,
          -83.7202,
          33.5531,
          135.9833,
          114.1577,
          70.8342,
          53.6902,
          30.3491,
          13.5031,
          -159.775,
          25.9704,
          119.9214,
          -120.4579,
          8.9696,
          57.6608,
          173.1667,
          172.9752,
          -63.0408,
          32.7774,
          60.643,
          -169.9187,
          -105.2842,
          121.1114,
          72.642,
          160.7034,
          -35.4608,
          4.7593,
          20.7447,
          -10.7969,
          -15.8333,
          126.0833,
          121.3435,
          -112.0361,
          -102.1667,
          -82.2665,
          167.6833,
          45.7622,
          -61.3485,
          147.8681,
          -0.0166,
          127.4,
          47.9875,
          99.5,
          124.2928,
          26.4,
          -64.7114,
          125.4636,
          158.6483,
          131.25,
          72.6228,
          -52.0986,
          -133.0374,
          55.4781,
          86.1778,
          -38.8828,
          140.7667,
          -81.6556,
          49.8164,
          59.2211,
          -131.6461,
          -110.8107,
          179.3167,
          96.37,
          -76.2,
          -52.7314,
          -86.0689,
          -66.5427,
          21.4794,
          -70.2041,
          -113.3019,
          35.5538,
          126.5842,
          -171,
          -51.7216,
          53.6482,
          57.7625,
          -71.8333,
          76.6,
          69.0217,
          -68.5914,
          135.6,
          24.7314,
          -147.8028,
          -7.3528,
          119.61,
          4.2658,
          118.7833,
          143.2,
          -59.3097,
          -58.7368,
          127.7558,
          -63.0578,
          177.9167,
          6.1333,
          -36.1756,
          57.5333,
          25.678,
          -89.6,
          133.8833,
          3.75,
          -74.7757,
          21.7833,
          114.0089,
          150.8552,
          -46.05,
          -76.5119,
          121.9702,
          140.3,
          -3.1392,
          -79.6167,
          -171.5986,
          92.75,
          45.8853,
          145.9167,
          10,
          -50.2056,
          33.5867,
          135.5833,
          -8.8033,
          29.0864,
          66.3167,
          1.6654,
          -10.0467,
          -112.4686,
          -122.1445,
          -63.5,
          138.1667,
          23.616,
          -158.0236,
          33.05,
          -135.0107,
          -52.9,
          -74.8492,
          -74.2239,
          134.2556,
          -105.2,
          -108.2574,
          -75.833,
          38.0042,
          140.3333,
          68.8333,
          -104.9878,
          35.1068,
          -9.3811,
          -65.7125,
          127.4739,
          17.3333,
          39.3776,
          -40.2925,
          10.2833,
          43.876,
          -23.5087,
          -40.3,
          50.8122,
          94.7333,
          -2.8146,
          176.6333,
          54.0924,
          -2.4935,
          26.8333,
          95.3214,
          166.1,
          122.2111,
          12.3689,
          31.6605,
          116.8463,
          -97.9298,
          -76.4093,
          -173.3,
          -67.5,
          128.8833,
          -108.2803,
          161.9205,
          135.8667,
          130.4114,
          15.8665,
          136.4853,
          178.4167,
          156.8419,
          20.4314,
          -82.5271,
          110.2833,
          114.5058,
          122.6711,
          126.75,
          128.9203,
          -75.5144,
          143.3,
          81.1185,
          55.2833,
          -77.6139,
          95.3222,
          96.1667,
          8.9667,
          -2.1697,
          35.2406,
          -16.726,
          -72.7824,
          -86.8466,
          130.2,
          -72.4445,
          13.1833,
          -105.9333,
          25.4993,
          111.5,
          105.8817,
          31.368,
          38.0833,
          -92.7503,
          83.0967,
          23.6866,
          43.2844,
          17.4833,
          -77.435,
          -70.0995,
          -71.8901,
          81.4825,
          111.5418,
          -151.0167,
          27.2889,
          -4.4421,
          30.4758,
          100.3543,
          -63.5724,
          -57.6792,
          37.4711,
          42.4509,
          -64.9,
          29.1833,
          159.5921,
          -11.14,
          43.7779,
          -58.0209,
          16.7117,
          4.8317,
          -72.7439,
          121.9,
          -4.2132,
          -34.9075,
          27.8492,
          31.1107,
          14.8667,
          14.4508,
          34.3222,
          33.8828,
          -43.0933,
          -57.5575,
          143.2092,
          -126.8329,
          -67.7418,
          -93.218,
          152.15,
          71.7189,
          -1.7554,
          -77.8333,
          134.9464,
          -95.2097,
          -47.4597,
          -17.0347,
          -3.6104,
          -51.995,
          -121.4238,
          124.39,
          34.8709,
          -105.7677,
          71.1665,
          107.359,
          96.1285,
          -34.8339,
          11.5793,
          1.0114,
          140.7833,
          125.4092,
          128.648,
          93.45,
          -96.667,
          146.0333,
          140.0242,
          32.0377,
          26.5969,
          -94.9669,
          44.3244,
          170.5036,
          31.5021,
          -77.0282,
          -15.6502,
          43.975,
          63.45,
          40.1856,
          -71.2495,
          167.4164,
          -165.4064,
          124.8925,
          142.8448,
          2.6036,
          18.6071,
          -78.1522,
          -41.0511,
          -86.2911,
          -122.4194,
          87.7602,
          67.9706,
          -118.8361,
          149.85,
          17.0832,
          143.6268,
          112.2051,
          -80.2041,
          -22.9167,
          48.3333,
          115.4,
          19.7667,
          -115.7999,
          -28.6333,
          -79.1996,
          53.6835,
          103.6372,
          -75.2829,
          150.6667,
          77.2406,
          -23.7142,
          1.4078,
          92.1703,
          -121.978,
          72.5167,
          -87.7506,
          -39.9167,
          36.2032,
          153.5667,
          -80.6094,
          28.4464,
          76.6333,
          -80.3256,
          141.3,
          16.6477,
          90.4074,
          112.7319,
          -17.0667,
          -23.5087
         ],
         "marker": {
          "color": "#636efa",
          "size": [
           98,
           100,
           89,
           21,
           96,
           67,
           80,
           81,
           97,
           77,
           74,
           68,
           82,
           66,
           51,
           76,
           76,
           66,
           44,
           80,
           78,
           68,
           94,
           83,
           85,
           43,
           88,
           82,
           70,
           99,
           83,
           98,
           77,
           88,
           73,
           45,
           93,
           87,
           97,
           84,
           99,
           81,
           69,
           77,
           23,
           68,
           73,
           90,
           81,
           79,
           83,
           61,
           61,
           63,
           25,
           93,
           100,
           83,
           39,
           81,
           62,
           96,
           49,
           79,
           37,
           90,
           73,
           84,
           94,
           89,
           88,
           18,
           73,
           76,
           74,
           66,
           96,
           91,
           98,
           89,
           89,
           74,
           95,
           67,
           17,
           71,
           95,
           85,
           60,
           94,
           99,
           71,
           77,
           24,
           33,
           79,
           89,
           90,
           21,
           67,
           68,
           64,
           48,
           95,
           97,
           79,
           70,
           100,
           97,
           100,
           29,
           86,
           67,
           76,
           91,
           94,
           89,
           89,
           99,
           64,
           85,
           69,
           87,
           57,
           89,
           91,
           65,
           88,
           76,
           95,
           100,
           69,
           95,
           61,
           84,
           77,
           72,
           47,
           94,
           76,
           73,
           93,
           74,
           90,
           94,
           100,
           65,
           85,
           64,
           74,
           90,
           85,
           42,
           96,
           83,
           89,
           75,
           66,
           82,
           79,
           80,
           79,
           99,
           88,
           100,
           79,
           33,
           100,
           39,
           69,
           78,
           64,
           51,
           88,
           54,
           92,
           81,
           86,
           82,
           80,
           100,
           85,
           48,
           95,
           85,
           70,
           89,
           89,
           91,
           55,
           76,
           85,
           72,
           67,
           47,
           88,
           81,
           75,
           79,
           79,
           92,
           43,
           49,
           77,
           87,
           85,
           77,
           83,
           91,
           41,
           40,
           87,
           99,
           86,
           73,
           62,
           56,
           43,
           60,
           70,
           82,
           82,
           69,
           60,
           95,
           65,
           81,
           72,
           98,
           99,
           100,
           79,
           74,
           55,
           69,
           65,
           70,
           60,
           74,
           68,
           80,
           48,
           78,
           57,
           88,
           79,
           74,
           74,
           83,
           97,
           80,
           66,
           95,
           76,
           68,
           25,
           48,
           78,
           93,
           92,
           82,
           89,
           78,
           91,
           99,
           93,
           98,
           78,
           75,
           66,
           83,
           33,
           87,
           76,
           73,
           94,
           84,
           77,
           76,
           73,
           48,
           69,
           49,
           84,
           94,
           63,
           87,
           46,
           92,
           97,
           71,
           59,
           86,
           88,
           98,
           74,
           54,
           80,
           23,
           88,
           99,
           85,
           98,
           78,
           93,
           84,
           100,
           77,
           44,
           98,
           19,
           68,
           91,
           73,
           45,
           80,
           87,
           63,
           34,
           80,
           42,
           85,
           90,
           29,
           100,
           75,
           62,
           51,
           72,
           82,
           65,
           69,
           75,
           79,
           78,
           65,
           89,
           92,
           46,
           67,
           92,
           80,
           96,
           27,
           84,
           42,
           82,
           18,
           63,
           91,
           65,
           71,
           99,
           62,
           95,
           12,
           77,
           78,
           45,
           63,
           85,
           71,
           40,
           32,
           46,
           88,
           83,
           95,
           35,
           65,
           96,
           95,
           95,
           64,
           28,
           68,
           89,
           72,
           38,
           73,
           87,
           82,
           76,
           93,
           78,
           86,
           31,
           46,
           41,
           72,
           93,
           22,
           99,
           95,
           80,
           65,
           99,
           36,
           92,
           90,
           76,
           87,
           57,
           89,
           38,
           93,
           92,
           98,
           70,
           85,
           100,
           79,
           73,
           80,
           33,
           90,
           82,
           77,
           80,
           58,
           65,
           65,
           75,
           58,
           32,
           86,
           97,
           99,
           84,
           60,
           85,
           96,
           63,
           81,
           96,
           51,
           57,
           58,
           100,
           95,
           69,
           75,
           73,
           99,
           87,
           68,
           58,
           86,
           80,
           46,
           93,
           79,
           90,
           80,
           22,
           17,
           100,
           47,
           83,
           93,
           74,
           79,
           74,
           95,
           22,
           92,
           92,
           54,
           60,
           68,
           77,
           70,
           53,
           77,
           86,
           84,
           75,
           87,
           38,
           95,
           88,
           23,
           97,
           79,
           89,
           91,
           68,
           100,
           49,
           90,
           73,
           96,
           16,
           91,
           62,
           98,
           46,
           30,
           66,
           57,
           90,
           98,
           89,
           41,
           68,
           48,
           73,
           75,
           40,
           50,
           87,
           57,
           69,
           86,
           73,
           87,
           84,
           75,
           75,
           87,
           73,
           73,
           100,
           26,
           92,
           52,
           24,
           81,
           85,
           74,
           63,
           84,
           50,
           25,
           56,
           78,
           83,
           98,
           98,
           46,
           73,
           35,
           74,
           16,
           100,
           73,
           89,
           45,
           74,
           68,
           89,
           85,
           40,
           94,
           65,
           79,
           25,
           68,
           73,
           85,
           64
          ],
          "sizemode": "area",
          "sizeref": 0.25,
          "symbol": "circle"
         },
         "mode": "markers",
         "name": "",
         "showlegend": false,
         "type": "scattergeo"
        }
       ],
       "layout": {
        "geo": {
         "center": {},
         "domain": {
          "x": [
           0,
           1
          ],
          "y": [
           0,
           1
          ]
         }
        },
        "legend": {
         "itemsizing": "constant",
         "tracegroupgap": 0
        },
        "margin": {
         "t": 60
        },
        "template": {
         "data": {
          "bar": [
           {
            "error_x": {
             "color": "#2a3f5f"
            },
            "error_y": {
             "color": "#2a3f5f"
            },
            "marker": {
             "line": {
              "color": "#E5ECF6",
              "width": 0.5
             },
             "pattern": {
              "fillmode": "overlay",
              "size": 10,
              "solidity": 0.2
             }
            },
            "type": "bar"
           }
          ],
          "barpolar": [
           {
            "marker": {
             "line": {
              "color": "#E5ECF6",
              "width": 0.5
             },
             "pattern": {
              "fillmode": "overlay",
              "size": 10,
              "solidity": 0.2
             }
            },
            "type": "barpolar"
           }
          ],
          "carpet": [
           {
            "aaxis": {
             "endlinecolor": "#2a3f5f",
             "gridcolor": "white",
             "linecolor": "white",
             "minorgridcolor": "white",
             "startlinecolor": "#2a3f5f"
            },
            "baxis": {
             "endlinecolor": "#2a3f5f",
             "gridcolor": "white",
             "linecolor": "white",
             "minorgridcolor": "white",
             "startlinecolor": "#2a3f5f"
            },
            "type": "carpet"
           }
          ],
          "choropleth": [
           {
            "colorbar": {
             "outlinewidth": 0,
             "ticks": ""
            },
            "type": "choropleth"
           }
          ],
          "contour": [
           {
            "colorbar": {
             "outlinewidth": 0,
             "ticks": ""
            },
            "colorscale": [
             [
              0,
              "#0d0887"
             ],
             [
              0.1111111111111111,
              "#46039f"
             ],
             [
              0.2222222222222222,
              "#7201a8"
             ],
             [
              0.3333333333333333,
              "#9c179e"
             ],
             [
              0.4444444444444444,
              "#bd3786"
             ],
             [
              0.5555555555555556,
              "#d8576b"
             ],
             [
              0.6666666666666666,
              "#ed7953"
             ],
             [
              0.7777777777777778,
              "#fb9f3a"
             ],
             [
              0.8888888888888888,
              "#fdca26"
             ],
             [
              1,
              "#f0f921"
             ]
            ],
            "type": "contour"
           }
          ],
          "contourcarpet": [
           {
            "colorbar": {
             "outlinewidth": 0,
             "ticks": ""
            },
            "type": "contourcarpet"
           }
          ],
          "heatmap": [
           {
            "colorbar": {
             "outlinewidth": 0,
             "ticks": ""
            },
            "colorscale": [
             [
              0,
              "#0d0887"
             ],
             [
              0.1111111111111111,
              "#46039f"
             ],
             [
              0.2222222222222222,
              "#7201a8"
             ],
             [
              0.3333333333333333,
              "#9c179e"
             ],
             [
              0.4444444444444444,
              "#bd3786"
             ],
             [
              0.5555555555555556,
              "#d8576b"
             ],
             [
              0.6666666666666666,
              "#ed7953"
             ],
             [
              0.7777777777777778,
              "#fb9f3a"
             ],
             [
              0.8888888888888888,
              "#fdca26"
             ],
             [
              1,
              "#f0f921"
             ]
            ],
            "type": "heatmap"
           }
          ],
          "heatmapgl": [
           {
            "colorbar": {
             "outlinewidth": 0,
             "ticks": ""
            },
            "colorscale": [
             [
              0,
              "#0d0887"
             ],
             [
              0.1111111111111111,
              "#46039f"
             ],
             [
              0.2222222222222222,
              "#7201a8"
             ],
             [
              0.3333333333333333,
              "#9c179e"
             ],
             [
              0.4444444444444444,
              "#bd3786"
             ],
             [
              0.5555555555555556,
              "#d8576b"
             ],
             [
              0.6666666666666666,
              "#ed7953"
             ],
             [
              0.7777777777777778,
              "#fb9f3a"
             ],
             [
              0.8888888888888888,
              "#fdca26"
             ],
             [
              1,
              "#f0f921"
             ]
            ],
            "type": "heatmapgl"
           }
          ],
          "histogram": [
           {
            "marker": {
             "pattern": {
              "fillmode": "overlay",
              "size": 10,
              "solidity": 0.2
             }
            },
            "type": "histogram"
           }
          ],
          "histogram2d": [
           {
            "colorbar": {
             "outlinewidth": 0,
             "ticks": ""
            },
            "colorscale": [
             [
              0,
              "#0d0887"
             ],
             [
              0.1111111111111111,
              "#46039f"
             ],
             [
              0.2222222222222222,
              "#7201a8"
             ],
             [
              0.3333333333333333,
              "#9c179e"
             ],
             [
              0.4444444444444444,
              "#bd3786"
             ],
             [
              0.5555555555555556,
              "#d8576b"
             ],
             [
              0.6666666666666666,
              "#ed7953"
             ],
             [
              0.7777777777777778,
              "#fb9f3a"
             ],
             [
              0.8888888888888888,
              "#fdca26"
             ],
             [
              1,
              "#f0f921"
             ]
            ],
            "type": "histogram2d"
           }
          ],
          "histogram2dcontour": [
           {
            "colorbar": {
             "outlinewidth": 0,
             "ticks": ""
            },
            "colorscale": [
             [
              0,
              "#0d0887"
             ],
             [
              0.1111111111111111,
              "#46039f"
             ],
             [
              0.2222222222222222,
              "#7201a8"
             ],
             [
              0.3333333333333333,
              "#9c179e"
             ],
             [
              0.4444444444444444,
              "#bd3786"
             ],
             [
              0.5555555555555556,
              "#d8576b"
             ],
             [
              0.6666666666666666,
              "#ed7953"
             ],
             [
              0.7777777777777778,
              "#fb9f3a"
             ],
             [
              0.8888888888888888,
              "#fdca26"
             ],
             [
              1,
              "#f0f921"
             ]
            ],
            "type": "histogram2dcontour"
           }
          ],
          "mesh3d": [
           {
            "colorbar": {
             "outlinewidth": 0,
             "ticks": ""
            },
            "type": "mesh3d"
           }
          ],
          "parcoords": [
           {
            "line": {
             "colorbar": {
              "outlinewidth": 0,
              "ticks": ""
             }
            },
            "type": "parcoords"
           }
          ],
          "pie": [
           {
            "automargin": true,
            "type": "pie"
           }
          ],
          "scatter": [
           {
            "fillpattern": {
             "fillmode": "overlay",
             "size": 10,
             "solidity": 0.2
            },
            "type": "scatter"
           }
          ],
          "scatter3d": [
           {
            "line": {
             "colorbar": {
              "outlinewidth": 0,
              "ticks": ""
             }
            },
            "marker": {
             "colorbar": {
              "outlinewidth": 0,
              "ticks": ""
             }
            },
            "type": "scatter3d"
           }
          ],
          "scattercarpet": [
           {
            "marker": {
             "colorbar": {
              "outlinewidth": 0,
              "ticks": ""
             }
            },
            "type": "scattercarpet"
           }
          ],
          "scattergeo": [
           {
            "marker": {
             "colorbar": {
              "outlinewidth": 0,
              "ticks": ""
             }
            },
            "type": "scattergeo"
           }
          ],
          "scattergl": [
           {
            "marker": {
             "colorbar": {
              "outlinewidth": 0,
              "ticks": ""
             }
            },
            "type": "scattergl"
           }
          ],
          "scattermapbox": [
           {
            "marker": {
             "colorbar": {
              "outlinewidth": 0,
              "ticks": ""
             }
            },
            "type": "scattermapbox"
           }
          ],
          "scatterpolar": [
           {
            "marker": {
             "colorbar": {
              "outlinewidth": 0,
              "ticks": ""
             }
            },
            "type": "scatterpolar"
           }
          ],
          "scatterpolargl": [
           {
            "marker": {
             "colorbar": {
              "outlinewidth": 0,
              "ticks": ""
             }
            },
            "type": "scatterpolargl"
           }
          ],
          "scatterternary": [
           {
            "marker": {
             "colorbar": {
              "outlinewidth": 0,
              "ticks": ""
             }
            },
            "type": "scatterternary"
           }
          ],
          "surface": [
           {
            "colorbar": {
             "outlinewidth": 0,
             "ticks": ""
            },
            "colorscale": [
             [
              0,
              "#0d0887"
             ],
             [
              0.1111111111111111,
              "#46039f"
             ],
             [
              0.2222222222222222,
              "#7201a8"
             ],
             [
              0.3333333333333333,
              "#9c179e"
             ],
             [
              0.4444444444444444,
              "#bd3786"
             ],
             [
              0.5555555555555556,
              "#d8576b"
             ],
             [
              0.6666666666666666,
              "#ed7953"
             ],
             [
              0.7777777777777778,
              "#fb9f3a"
             ],
             [
              0.8888888888888888,
              "#fdca26"
             ],
             [
              1,
              "#f0f921"
             ]
            ],
            "type": "surface"
           }
          ],
          "table": [
           {
            "cells": {
             "fill": {
              "color": "#EBF0F8"
             },
             "line": {
              "color": "white"
             }
            },
            "header": {
             "fill": {
              "color": "#C8D4E3"
             },
             "line": {
              "color": "white"
             }
            },
            "type": "table"
           }
          ]
         },
         "layout": {
          "annotationdefaults": {
           "arrowcolor": "#2a3f5f",
           "arrowhead": 0,
           "arrowwidth": 1
          },
          "autotypenumbers": "strict",
          "coloraxis": {
           "colorbar": {
            "outlinewidth": 0,
            "ticks": ""
           }
          },
          "colorscale": {
           "diverging": [
            [
             0,
             "#8e0152"
            ],
            [
             0.1,
             "#c51b7d"
            ],
            [
             0.2,
             "#de77ae"
            ],
            [
             0.3,
             "#f1b6da"
            ],
            [
             0.4,
             "#fde0ef"
            ],
            [
             0.5,
             "#f7f7f7"
            ],
            [
             0.6,
             "#e6f5d0"
            ],
            [
             0.7,
             "#b8e186"
            ],
            [
             0.8,
             "#7fbc41"
            ],
            [
             0.9,
             "#4d9221"
            ],
            [
             1,
             "#276419"
            ]
           ],
           "sequential": [
            [
             0,
             "#0d0887"
            ],
            [
             0.1111111111111111,
             "#46039f"
            ],
            [
             0.2222222222222222,
             "#7201a8"
            ],
            [
             0.3333333333333333,
             "#9c179e"
            ],
            [
             0.4444444444444444,
             "#bd3786"
            ],
            [
             0.5555555555555556,
             "#d8576b"
            ],
            [
             0.6666666666666666,
             "#ed7953"
            ],
            [
             0.7777777777777778,
             "#fb9f3a"
            ],
            [
             0.8888888888888888,
             "#fdca26"
            ],
            [
             1,
             "#f0f921"
            ]
           ],
           "sequentialminus": [
            [
             0,
             "#0d0887"
            ],
            [
             0.1111111111111111,
             "#46039f"
            ],
            [
             0.2222222222222222,
             "#7201a8"
            ],
            [
             0.3333333333333333,
             "#9c179e"
            ],
            [
             0.4444444444444444,
             "#bd3786"
            ],
            [
             0.5555555555555556,
             "#d8576b"
            ],
            [
             0.6666666666666666,
             "#ed7953"
            ],
            [
             0.7777777777777778,
             "#fb9f3a"
            ],
            [
             0.8888888888888888,
             "#fdca26"
            ],
            [
             1,
             "#f0f921"
            ]
           ]
          },
          "colorway": [
           "#636efa",
           "#EF553B",
           "#00cc96",
           "#ab63fa",
           "#FFA15A",
           "#19d3f3",
           "#FF6692",
           "#B6E880",
           "#FF97FF",
           "#FECB52"
          ],
          "font": {
           "color": "#2a3f5f"
          },
          "geo": {
           "bgcolor": "white",
           "lakecolor": "white",
           "landcolor": "#E5ECF6",
           "showlakes": true,
           "showland": true,
           "subunitcolor": "white"
          },
          "hoverlabel": {
           "align": "left"
          },
          "hovermode": "closest",
          "mapbox": {
           "style": "light"
          },
          "paper_bgcolor": "white",
          "plot_bgcolor": "#E5ECF6",
          "polar": {
           "angularaxis": {
            "gridcolor": "white",
            "linecolor": "white",
            "ticks": ""
           },
           "bgcolor": "#E5ECF6",
           "radialaxis": {
            "gridcolor": "white",
            "linecolor": "white",
            "ticks": ""
           }
          },
          "scene": {
           "xaxis": {
            "backgroundcolor": "#E5ECF6",
            "gridcolor": "white",
            "gridwidth": 2,
            "linecolor": "white",
            "showbackground": true,
            "ticks": "",
            "zerolinecolor": "white"
           },
           "yaxis": {
            "backgroundcolor": "#E5ECF6",
            "gridcolor": "white",
            "gridwidth": 2,
            "linecolor": "white",
            "showbackground": true,
            "ticks": "",
            "zerolinecolor": "white"
           },
           "zaxis": {
            "backgroundcolor": "#E5ECF6",
            "gridcolor": "white",
            "gridwidth": 2,
            "linecolor": "white",
            "showbackground": true,
            "ticks": "",
            "zerolinecolor": "white"
           }
          },
          "shapedefaults": {
           "line": {
            "color": "#2a3f5f"
           }
          },
          "ternary": {
           "aaxis": {
            "gridcolor": "white",
            "linecolor": "white",
            "ticks": ""
           },
           "baxis": {
            "gridcolor": "white",
            "linecolor": "white",
            "ticks": ""
           },
           "bgcolor": "#E5ECF6",
           "caxis": {
            "gridcolor": "white",
            "linecolor": "white",
            "ticks": ""
           }
          },
          "title": {
           "x": 0.05
          },
          "xaxis": {
           "automargin": true,
           "gridcolor": "white",
           "linecolor": "white",
           "ticks": "",
           "title": {
            "standoff": 15
           },
           "zerolinecolor": "white",
           "zerolinewidth": 2
          },
          "yaxis": {
           "automargin": true,
           "gridcolor": "white",
           "linecolor": "white",
           "ticks": "",
           "title": {
            "standoff": 15
           },
           "zerolinecolor": "white",
           "zerolinewidth": 2
          }
         }
        }
       }
      }
     },
     "metadata": {},
     "output_type": "display_data"
    }
   ],
   "source": [
    "fig = px.scatter_geo(city_data_df,\n",
    "                    lat=city_data_df.Lat,\n",
    "                    lon=city_data_df.Lng,\n",
    "                    size= 'Humidity',\n",
    "                    hover_name=\"City\")\n",
    "fig.show()\n",
    "\n",
    "# # Configure the map plot\n",
    "# map_layout = {\n",
    "#      'width': '900px',\n",
    "#      'height': '600px',\n",
    "#      'border': '1px solid black',\n",
    "#      'padding': '1px',\n",
    "#      'margin': '0 auto 0 auto'\n",
    "# }\n",
    "\n",
    "# coordinates = city_data_df[['Lat', 'Lng']]\n",
    "# humidity_values = city_data_df[\"Humidity\"]\n",
    "\n",
    "# fig = gmaps.figure(layout=map_layout,zoom_level=2,center=(15,25))\n",
    "\n",
    "# # Display the map\n",
    "# humidity_layer = gmaps.heatmap_layer(coordinates, weights=humidity_values, \n",
    "#                                  dissipating=False, max_intensity=10,\n",
    "#                                  point_radius=1)\n",
    "\n",
    "# # Add layer\n",
    "# fig.add_layer(humidity_layer)\n",
    "\n",
    "# # Display figure\n",
    "# fig\n"
   ]
  },
  {
   "cell_type": "markdown",
   "metadata": {},
   "source": [
    "### Step 2: Narrow down the `city_data_df` DataFrame to find your ideal weather condition"
   ]
  },
  {
   "cell_type": "code",
   "execution_count": 43,
   "metadata": {},
   "outputs": [
    {
     "data": {
      "text/html": [
       "<div>\n",
       "<style scoped>\n",
       "    .dataframe tbody tr th:only-of-type {\n",
       "        vertical-align: middle;\n",
       "    }\n",
       "\n",
       "    .dataframe tbody tr th {\n",
       "        vertical-align: top;\n",
       "    }\n",
       "\n",
       "    .dataframe thead th {\n",
       "        text-align: right;\n",
       "    }\n",
       "</style>\n",
       "<table border=\"1\" class=\"dataframe\">\n",
       "  <thead>\n",
       "    <tr style=\"text-align: right;\">\n",
       "      <th></th>\n",
       "      <th>index</th>\n",
       "      <th>City_ID</th>\n",
       "      <th>City</th>\n",
       "      <th>Lat</th>\n",
       "      <th>Lng</th>\n",
       "      <th>Max Temp</th>\n",
       "      <th>Humidity</th>\n",
       "      <th>Cloudiness</th>\n",
       "      <th>Wind Speed</th>\n",
       "      <th>Country</th>\n",
       "      <th>Date</th>\n",
       "    </tr>\n",
       "  </thead>\n",
       "  <tbody>\n",
       "    <tr>\n",
       "      <th>0</th>\n",
       "      <td>14</td>\n",
       "      <td>14</td>\n",
       "      <td>bethel</td>\n",
       "      <td>41.3712</td>\n",
       "      <td>-73.4140</td>\n",
       "      <td>278.57</td>\n",
       "      <td>51</td>\n",
       "      <td>0</td>\n",
       "      <td>1.54</td>\n",
       "      <td>US</td>\n",
       "      <td>1670189261</td>\n",
       "    </tr>\n",
       "    <tr>\n",
       "      <th>1</th>\n",
       "      <td>18</td>\n",
       "      <td>18</td>\n",
       "      <td>jamestown</td>\n",
       "      <td>42.0970</td>\n",
       "      <td>-79.2353</td>\n",
       "      <td>274.92</td>\n",
       "      <td>44</td>\n",
       "      <td>0</td>\n",
       "      <td>6.17</td>\n",
       "      <td>US</td>\n",
       "      <td>1670189443</td>\n",
       "    </tr>\n",
       "    <tr>\n",
       "      <th>2</th>\n",
       "      <td>35</td>\n",
       "      <td>35</td>\n",
       "      <td>bowral</td>\n",
       "      <td>-34.4667</td>\n",
       "      <td>150.4167</td>\n",
       "      <td>292.03</td>\n",
       "      <td>45</td>\n",
       "      <td>8</td>\n",
       "      <td>3.63</td>\n",
       "      <td>AU</td>\n",
       "      <td>1670189430</td>\n",
       "    </tr>\n",
       "    <tr>\n",
       "      <th>3</th>\n",
       "      <td>51</td>\n",
       "      <td>51</td>\n",
       "      <td>cabo san lucas</td>\n",
       "      <td>22.8909</td>\n",
       "      <td>-109.9124</td>\n",
       "      <td>302.76</td>\n",
       "      <td>61</td>\n",
       "      <td>0</td>\n",
       "      <td>2.06</td>\n",
       "      <td>MX</td>\n",
       "      <td>1670189255</td>\n",
       "    </tr>\n",
       "    <tr>\n",
       "      <th>4</th>\n",
       "      <td>101</td>\n",
       "      <td>101</td>\n",
       "      <td>cape town</td>\n",
       "      <td>-33.9258</td>\n",
       "      <td>18.4232</td>\n",
       "      <td>290.52</td>\n",
       "      <td>64</td>\n",
       "      <td>0</td>\n",
       "      <td>6.17</td>\n",
       "      <td>ZA</td>\n",
       "      <td>1670189294</td>\n",
       "    </tr>\n",
       "  </tbody>\n",
       "</table>\n",
       "</div>"
      ],
      "text/plain": [
       "   index  City_ID            City      Lat       Lng  Max Temp  Humidity  \\\n",
       "0     14       14          bethel  41.3712  -73.4140    278.57        51   \n",
       "1     18       18       jamestown  42.0970  -79.2353    274.92        44   \n",
       "2     35       35          bowral -34.4667  150.4167    292.03        45   \n",
       "3     51       51  cabo san lucas  22.8909 -109.9124    302.76        61   \n",
       "4    101      101       cape town -33.9258   18.4232    290.52        64   \n",
       "\n",
       "   Cloudiness  Wind Speed Country        Date  \n",
       "0           0        1.54      US  1670189261  \n",
       "1           0        6.17      US  1670189443  \n",
       "2           8        3.63      AU  1670189430  \n",
       "3           0        2.06      MX  1670189255  \n",
       "4           0        6.17      ZA  1670189294  "
      ]
     },
     "execution_count": 43,
     "metadata": {},
     "output_type": "execute_result"
    }
   ],
   "source": [
    "# Narrow down cities that fit criteria and drop any results with null values\n",
    "no_clouds = city_data_df.Cloudiness < 10\n",
    "optimal_humid = (city_data_df.Humidity < 70 ) & (city_data_df.Humidity > 40)\n",
    "less_windy = city_data_df['Wind Speed'] < 10\n",
    "weather_condition = no_clouds & optimal_humid & less_windy \n",
    "\n",
    "# Drop any rows with null values\n",
    "perfect_weather_df = city_data_df[weather_condition]\n",
    "perfect_weather_df = perfect_weather_df.dropna()\n",
    "perfect_weather_df = perfect_weather_df.reset_index()\n",
    "\n",
    "# Display sample data\n",
    "perfect_weather_df.head()"
   ]
  },
  {
   "cell_type": "markdown",
   "metadata": {},
   "source": [
    "### Step 3: Create a new DataFrame called `hotel_df`."
   ]
  },
  {
   "cell_type": "code",
   "execution_count": 44,
   "metadata": {},
   "outputs": [
    {
     "name": "stderr",
     "output_type": "stream",
     "text": [
      "C:\\Users\\anand\\AppData\\Local\\Temp\\ipykernel_32756\\828897073.py:6: SettingWithCopyWarning:\n",
      "\n",
      "\n",
      "A value is trying to be set on a copy of a slice from a DataFrame.\n",
      "Try using .loc[row_indexer,col_indexer] = value instead\n",
      "\n",
      "See the caveats in the documentation: https://pandas.pydata.org/pandas-docs/stable/user_guide/indexing.html#returning-a-view-versus-a-copy\n",
      "\n"
     ]
    },
    {
     "data": {
      "text/html": [
       "<div>\n",
       "<style scoped>\n",
       "    .dataframe tbody tr th:only-of-type {\n",
       "        vertical-align: middle;\n",
       "    }\n",
       "\n",
       "    .dataframe tbody tr th {\n",
       "        vertical-align: top;\n",
       "    }\n",
       "\n",
       "    .dataframe thead th {\n",
       "        text-align: right;\n",
       "    }\n",
       "</style>\n",
       "<table border=\"1\" class=\"dataframe\">\n",
       "  <thead>\n",
       "    <tr style=\"text-align: right;\">\n",
       "      <th></th>\n",
       "      <th>City</th>\n",
       "      <th>Country</th>\n",
       "      <th>Lat</th>\n",
       "      <th>Lng</th>\n",
       "      <th>Cloudiness</th>\n",
       "      <th>Humidity</th>\n",
       "      <th>Wind Speed</th>\n",
       "      <th>Hotel Name</th>\n",
       "    </tr>\n",
       "  </thead>\n",
       "  <tbody>\n",
       "    <tr>\n",
       "      <th>0</th>\n",
       "      <td>bethel</td>\n",
       "      <td>US</td>\n",
       "      <td>41.3712</td>\n",
       "      <td>-73.4140</td>\n",
       "      <td>0</td>\n",
       "      <td>51</td>\n",
       "      <td>1.54</td>\n",
       "      <td></td>\n",
       "    </tr>\n",
       "    <tr>\n",
       "      <th>1</th>\n",
       "      <td>jamestown</td>\n",
       "      <td>US</td>\n",
       "      <td>42.0970</td>\n",
       "      <td>-79.2353</td>\n",
       "      <td>0</td>\n",
       "      <td>44</td>\n",
       "      <td>6.17</td>\n",
       "      <td></td>\n",
       "    </tr>\n",
       "    <tr>\n",
       "      <th>2</th>\n",
       "      <td>bowral</td>\n",
       "      <td>AU</td>\n",
       "      <td>-34.4667</td>\n",
       "      <td>150.4167</td>\n",
       "      <td>8</td>\n",
       "      <td>45</td>\n",
       "      <td>3.63</td>\n",
       "      <td></td>\n",
       "    </tr>\n",
       "    <tr>\n",
       "      <th>3</th>\n",
       "      <td>cabo san lucas</td>\n",
       "      <td>MX</td>\n",
       "      <td>22.8909</td>\n",
       "      <td>-109.9124</td>\n",
       "      <td>0</td>\n",
       "      <td>61</td>\n",
       "      <td>2.06</td>\n",
       "      <td></td>\n",
       "    </tr>\n",
       "    <tr>\n",
       "      <th>4</th>\n",
       "      <td>cape town</td>\n",
       "      <td>ZA</td>\n",
       "      <td>-33.9258</td>\n",
       "      <td>18.4232</td>\n",
       "      <td>0</td>\n",
       "      <td>64</td>\n",
       "      <td>6.17</td>\n",
       "      <td></td>\n",
       "    </tr>\n",
       "  </tbody>\n",
       "</table>\n",
       "</div>"
      ],
      "text/plain": [
       "             City Country      Lat       Lng  Cloudiness  Humidity  \\\n",
       "0          bethel      US  41.3712  -73.4140           0        51   \n",
       "1       jamestown      US  42.0970  -79.2353           0        44   \n",
       "2          bowral      AU -34.4667  150.4167           8        45   \n",
       "3  cabo san lucas      MX  22.8909 -109.9124           0        61   \n",
       "4       cape town      ZA -33.9258   18.4232           0        64   \n",
       "\n",
       "   Wind Speed Hotel Name  \n",
       "0        1.54             \n",
       "1        6.17             \n",
       "2        3.63             \n",
       "3        2.06             \n",
       "4        6.17             "
      ]
     },
     "execution_count": 44,
     "metadata": {},
     "output_type": "execute_result"
    }
   ],
   "source": [
    "# Use the Pandas copy function to create DataFrame called hotel_df to store the city, country, coordinates, and humidity\n",
    "hotel_df = perfect_weather_df[[\"City\",\"Country\",\"Lat\",\"Lng\",\"Cloudiness\",\"Humidity\",\"Wind Speed\"]]\n",
    "\n",
    "\n",
    "# Add an empty column, \"Hotel Name,\" to the DataFrame so you can store the hotel found using the Geoapify API\n",
    "hotel_df[\"Hotel Name\"] = \"\"\n",
    "\n",
    "# Display sample data\n",
    "hotel_df.head()"
   ]
  },
  {
   "cell_type": "markdown",
   "metadata": {},
   "source": [
    "### Step 4: For each city, use the Geoapify API to find the first hotel located within 10,000 metres of your coordinates."
   ]
  },
  {
   "cell_type": "code",
   "execution_count": 52,
   "metadata": {},
   "outputs": [
    {
     "name": "stdout",
     "output_type": "stream",
     "text": [
      "Starting hotel search\n",
      "bethel - nearest hotel: No-hotel-found\n",
      "jamestown - nearest hotel: No-hotel-found\n",
      "bowral - nearest hotel: No-hotel-found\n",
      "cabo san lucas - nearest hotel: No-hotel-found\n",
      "cape town - nearest hotel: No-hotel-found\n",
      "tasiilaq - nearest hotel: No-hotel-found\n",
      "gat - nearest hotel: No-hotel-found\n",
      "salvador - nearest hotel: No-hotel-found\n",
      "volodarskiy - nearest hotel: Znamensk\n",
      "westport - nearest hotel: No-hotel-found\n",
      "xiaoshi - nearest hotel: No-hotel-found\n",
      "brainerd - nearest hotel: No-hotel-found\n",
      "baiyin - nearest hotel: No-hotel-found\n",
      "waris aliganj - nearest hotel: No-hotel-found\n",
      "talcahuano - nearest hotel: No-hotel-found\n",
      "saint george - nearest hotel: No-hotel-found\n",
      "winder - nearest hotel: No-hotel-found\n",
      "ahipara - nearest hotel: No-hotel-found\n",
      "chabahar - nearest hotel: Ravintola Kalash\n",
      "ashland - nearest hotel: No-hotel-found\n",
      "petropavlovsk-kamchatskiy - nearest hotel: No-hotel-found\n",
      "birjand - nearest hotel: No-hotel-found\n",
      "ketchikan - nearest hotel: No-hotel-found\n",
      "rock sound - nearest hotel: No-hotel-found\n",
      "peru - nearest hotel: No-hotel-found\n",
      "fasa - nearest hotel: No-hotel-found\n",
      "mujiayingzi - nearest hotel: No-hotel-found\n",
      "necochea - nearest hotel: No-hotel-found\n",
      "manutuke - nearest hotel: No-hotel-found\n",
      "nizwa - nearest hotel: Mare Restorāns\n",
      "alice springs - nearest hotel: No-hotel-found\n",
      "mayo - nearest hotel: No-hotel-found\n",
      "burnie - nearest hotel: No-hotel-found\n",
      "tete - nearest hotel: No-hotel-found\n",
      "broome - nearest hotel: No-hotel-found\n",
      "pidhorodne - nearest hotel: دیزی سرای بزباش\n",
      "karratha - nearest hotel: No-hotel-found\n",
      "hutchinson - nearest hotel: No-hotel-found\n",
      "media luna - nearest hotel: No-hotel-found\n",
      "fare - nearest hotel: No-hotel-found\n",
      "mar del plata - nearest hotel: No-hotel-found\n",
      "saint anthony - nearest hotel: No-hotel-found\n",
      "guozhen - nearest hotel: No-hotel-found\n",
      "sayyan - nearest hotel: Mornar\n",
      "moree - nearest hotel: No-hotel-found\n",
      "vermilion - nearest hotel: No-hotel-found\n",
      "wagar - nearest hotel: No-hotel-found\n",
      "fort pierce - nearest hotel: No-hotel-found\n",
      "dhaka - nearest hotel: No-hotel-found\n"
     ]
    },
    {
     "data": {
      "text/html": [
       "<div>\n",
       "<style scoped>\n",
       "    .dataframe tbody tr th:only-of-type {\n",
       "        vertical-align: middle;\n",
       "    }\n",
       "\n",
       "    .dataframe tbody tr th {\n",
       "        vertical-align: top;\n",
       "    }\n",
       "\n",
       "    .dataframe thead th {\n",
       "        text-align: right;\n",
       "    }\n",
       "</style>\n",
       "<table border=\"1\" class=\"dataframe\">\n",
       "  <thead>\n",
       "    <tr style=\"text-align: right;\">\n",
       "      <th></th>\n",
       "      <th>City</th>\n",
       "      <th>Country</th>\n",
       "      <th>Lat</th>\n",
       "      <th>Lng</th>\n",
       "      <th>Cloudiness</th>\n",
       "      <th>Humidity</th>\n",
       "      <th>Wind Speed</th>\n",
       "      <th>Hotel Name</th>\n",
       "    </tr>\n",
       "  </thead>\n",
       "  <tbody>\n",
       "    <tr>\n",
       "      <th>0</th>\n",
       "      <td>bethel</td>\n",
       "      <td>US</td>\n",
       "      <td>41.3712</td>\n",
       "      <td>-73.4140</td>\n",
       "      <td>0</td>\n",
       "      <td>51</td>\n",
       "      <td>1.54</td>\n",
       "      <td>No-hotel-found</td>\n",
       "    </tr>\n",
       "    <tr>\n",
       "      <th>1</th>\n",
       "      <td>jamestown</td>\n",
       "      <td>US</td>\n",
       "      <td>42.0970</td>\n",
       "      <td>-79.2353</td>\n",
       "      <td>0</td>\n",
       "      <td>44</td>\n",
       "      <td>6.17</td>\n",
       "      <td>No-hotel-found</td>\n",
       "    </tr>\n",
       "    <tr>\n",
       "      <th>2</th>\n",
       "      <td>bowral</td>\n",
       "      <td>AU</td>\n",
       "      <td>-34.4667</td>\n",
       "      <td>150.4167</td>\n",
       "      <td>8</td>\n",
       "      <td>45</td>\n",
       "      <td>3.63</td>\n",
       "      <td>No-hotel-found</td>\n",
       "    </tr>\n",
       "    <tr>\n",
       "      <th>3</th>\n",
       "      <td>cabo san lucas</td>\n",
       "      <td>MX</td>\n",
       "      <td>22.8909</td>\n",
       "      <td>-109.9124</td>\n",
       "      <td>0</td>\n",
       "      <td>61</td>\n",
       "      <td>2.06</td>\n",
       "      <td>No-hotel-found</td>\n",
       "    </tr>\n",
       "    <tr>\n",
       "      <th>4</th>\n",
       "      <td>cape town</td>\n",
       "      <td>ZA</td>\n",
       "      <td>-33.9258</td>\n",
       "      <td>18.4232</td>\n",
       "      <td>0</td>\n",
       "      <td>64</td>\n",
       "      <td>6.17</td>\n",
       "      <td>No-hotel-found</td>\n",
       "    </tr>\n",
       "    <tr>\n",
       "      <th>5</th>\n",
       "      <td>tasiilaq</td>\n",
       "      <td>GL</td>\n",
       "      <td>65.6145</td>\n",
       "      <td>-37.6368</td>\n",
       "      <td>5</td>\n",
       "      <td>65</td>\n",
       "      <td>1.45</td>\n",
       "      <td>No-hotel-found</td>\n",
       "    </tr>\n",
       "    <tr>\n",
       "      <th>6</th>\n",
       "      <td>gat</td>\n",
       "      <td>IL</td>\n",
       "      <td>31.6100</td>\n",
       "      <td>34.7642</td>\n",
       "      <td>0</td>\n",
       "      <td>64</td>\n",
       "      <td>2.20</td>\n",
       "      <td>No-hotel-found</td>\n",
       "    </tr>\n",
       "    <tr>\n",
       "      <th>7</th>\n",
       "      <td>salvador</td>\n",
       "      <td>SV</td>\n",
       "      <td>13.8333</td>\n",
       "      <td>-88.9167</td>\n",
       "      <td>0</td>\n",
       "      <td>42</td>\n",
       "      <td>1.78</td>\n",
       "      <td>No-hotel-found</td>\n",
       "    </tr>\n",
       "    <tr>\n",
       "      <th>8</th>\n",
       "      <td>volodarskiy</td>\n",
       "      <td>RU</td>\n",
       "      <td>46.4013</td>\n",
       "      <td>48.5409</td>\n",
       "      <td>5</td>\n",
       "      <td>51</td>\n",
       "      <td>4.19</td>\n",
       "      <td>Znamensk</td>\n",
       "    </tr>\n",
       "    <tr>\n",
       "      <th>9</th>\n",
       "      <td>westport</td>\n",
       "      <td>US</td>\n",
       "      <td>41.1415</td>\n",
       "      <td>-73.3579</td>\n",
       "      <td>0</td>\n",
       "      <td>48</td>\n",
       "      <td>2.57</td>\n",
       "      <td>No-hotel-found</td>\n",
       "    </tr>\n",
       "    <tr>\n",
       "      <th>10</th>\n",
       "      <td>xiaoshi</td>\n",
       "      <td>CN</td>\n",
       "      <td>41.2971</td>\n",
       "      <td>124.1209</td>\n",
       "      <td>0</td>\n",
       "      <td>67</td>\n",
       "      <td>1.30</td>\n",
       "      <td>No-hotel-found</td>\n",
       "    </tr>\n",
       "    <tr>\n",
       "      <th>11</th>\n",
       "      <td>brainerd</td>\n",
       "      <td>US</td>\n",
       "      <td>46.3580</td>\n",
       "      <td>-94.2008</td>\n",
       "      <td>0</td>\n",
       "      <td>47</td>\n",
       "      <td>5.66</td>\n",
       "      <td>No-hotel-found</td>\n",
       "    </tr>\n",
       "    <tr>\n",
       "      <th>12</th>\n",
       "      <td>baiyin</td>\n",
       "      <td>CN</td>\n",
       "      <td>36.5583</td>\n",
       "      <td>104.2081</td>\n",
       "      <td>0</td>\n",
       "      <td>43</td>\n",
       "      <td>1.10</td>\n",
       "      <td>No-hotel-found</td>\n",
       "    </tr>\n",
       "    <tr>\n",
       "      <th>13</th>\n",
       "      <td>waris aliganj</td>\n",
       "      <td>IN</td>\n",
       "      <td>25.0167</td>\n",
       "      <td>85.6333</td>\n",
       "      <td>2</td>\n",
       "      <td>49</td>\n",
       "      <td>2.56</td>\n",
       "      <td>No-hotel-found</td>\n",
       "    </tr>\n",
       "    <tr>\n",
       "      <th>14</th>\n",
       "      <td>talcahuano</td>\n",
       "      <td>CL</td>\n",
       "      <td>-36.7167</td>\n",
       "      <td>-73.1167</td>\n",
       "      <td>0</td>\n",
       "      <td>56</td>\n",
       "      <td>8.23</td>\n",
       "      <td>No-hotel-found</td>\n",
       "    </tr>\n",
       "    <tr>\n",
       "      <th>15</th>\n",
       "      <td>saint george</td>\n",
       "      <td>US</td>\n",
       "      <td>37.1041</td>\n",
       "      <td>-113.5841</td>\n",
       "      <td>0</td>\n",
       "      <td>43</td>\n",
       "      <td>1.34</td>\n",
       "      <td>No-hotel-found</td>\n",
       "    </tr>\n",
       "    <tr>\n",
       "      <th>16</th>\n",
       "      <td>winder</td>\n",
       "      <td>US</td>\n",
       "      <td>33.9926</td>\n",
       "      <td>-83.7202</td>\n",
       "      <td>0</td>\n",
       "      <td>60</td>\n",
       "      <td>2.06</td>\n",
       "      <td>No-hotel-found</td>\n",
       "    </tr>\n",
       "    <tr>\n",
       "      <th>17</th>\n",
       "      <td>ahipara</td>\n",
       "      <td>NZ</td>\n",
       "      <td>-35.1667</td>\n",
       "      <td>173.1667</td>\n",
       "      <td>0</td>\n",
       "      <td>60</td>\n",
       "      <td>1.48</td>\n",
       "      <td>No-hotel-found</td>\n",
       "    </tr>\n",
       "    <tr>\n",
       "      <th>18</th>\n",
       "      <td>chabahar</td>\n",
       "      <td>IR</td>\n",
       "      <td>25.2919</td>\n",
       "      <td>60.6430</td>\n",
       "      <td>0</td>\n",
       "      <td>48</td>\n",
       "      <td>2.15</td>\n",
       "      <td>Ravintola Kalash</td>\n",
       "    </tr>\n",
       "    <tr>\n",
       "      <th>19</th>\n",
       "      <td>ashland</td>\n",
       "      <td>US</td>\n",
       "      <td>40.8167</td>\n",
       "      <td>-82.2665</td>\n",
       "      <td>0</td>\n",
       "      <td>48</td>\n",
       "      <td>4.48</td>\n",
       "      <td>No-hotel-found</td>\n",
       "    </tr>\n",
       "    <tr>\n",
       "      <th>20</th>\n",
       "      <td>petropavlovsk-kamchatskiy</td>\n",
       "      <td>RU</td>\n",
       "      <td>53.0452</td>\n",
       "      <td>158.6483</td>\n",
       "      <td>0</td>\n",
       "      <td>66</td>\n",
       "      <td>6.00</td>\n",
       "      <td>No-hotel-found</td>\n",
       "    </tr>\n",
       "    <tr>\n",
       "      <th>21</th>\n",
       "      <td>birjand</td>\n",
       "      <td>IR</td>\n",
       "      <td>32.8663</td>\n",
       "      <td>59.2211</td>\n",
       "      <td>0</td>\n",
       "      <td>48</td>\n",
       "      <td>3.09</td>\n",
       "      <td>No-hotel-found</td>\n",
       "    </tr>\n",
       "    <tr>\n",
       "      <th>22</th>\n",
       "      <td>ketchikan</td>\n",
       "      <td>US</td>\n",
       "      <td>55.3422</td>\n",
       "      <td>-131.6461</td>\n",
       "      <td>0</td>\n",
       "      <td>69</td>\n",
       "      <td>5.66</td>\n",
       "      <td>No-hotel-found</td>\n",
       "    </tr>\n",
       "    <tr>\n",
       "      <th>23</th>\n",
       "      <td>rock sound</td>\n",
       "      <td>BS</td>\n",
       "      <td>24.9000</td>\n",
       "      <td>-76.2000</td>\n",
       "      <td>3</td>\n",
       "      <td>63</td>\n",
       "      <td>7.91</td>\n",
       "      <td>No-hotel-found</td>\n",
       "    </tr>\n",
       "    <tr>\n",
       "      <th>24</th>\n",
       "      <td>peru</td>\n",
       "      <td>US</td>\n",
       "      <td>40.7537</td>\n",
       "      <td>-86.0689</td>\n",
       "      <td>0</td>\n",
       "      <td>46</td>\n",
       "      <td>5.14</td>\n",
       "      <td>No-hotel-found</td>\n",
       "    </tr>\n",
       "    <tr>\n",
       "      <th>25</th>\n",
       "      <td>fasa</td>\n",
       "      <td>IR</td>\n",
       "      <td>28.9383</td>\n",
       "      <td>53.6482</td>\n",
       "      <td>0</td>\n",
       "      <td>54</td>\n",
       "      <td>0.00</td>\n",
       "      <td>No-hotel-found</td>\n",
       "    </tr>\n",
       "    <tr>\n",
       "      <th>26</th>\n",
       "      <td>mujiayingzi</td>\n",
       "      <td>CN</td>\n",
       "      <td>42.1167</td>\n",
       "      <td>118.7833</td>\n",
       "      <td>0</td>\n",
       "      <td>44</td>\n",
       "      <td>2.96</td>\n",
       "      <td>No-hotel-found</td>\n",
       "    </tr>\n",
       "    <tr>\n",
       "      <th>27</th>\n",
       "      <td>necochea</td>\n",
       "      <td>AR</td>\n",
       "      <td>-38.5473</td>\n",
       "      <td>-58.7368</td>\n",
       "      <td>2</td>\n",
       "      <td>68</td>\n",
       "      <td>4.29</td>\n",
       "      <td>No-hotel-found</td>\n",
       "    </tr>\n",
       "    <tr>\n",
       "      <th>28</th>\n",
       "      <td>manutuke</td>\n",
       "      <td>NZ</td>\n",
       "      <td>-38.6833</td>\n",
       "      <td>177.9167</td>\n",
       "      <td>4</td>\n",
       "      <td>45</td>\n",
       "      <td>2.04</td>\n",
       "      <td>No-hotel-found</td>\n",
       "    </tr>\n",
       "    <tr>\n",
       "      <th>29</th>\n",
       "      <td>nizwa</td>\n",
       "      <td>OM</td>\n",
       "      <td>22.9333</td>\n",
       "      <td>57.5333</td>\n",
       "      <td>0</td>\n",
       "      <td>63</td>\n",
       "      <td>0.93</td>\n",
       "      <td>Mare Restorāns</td>\n",
       "    </tr>\n",
       "    <tr>\n",
       "      <th>30</th>\n",
       "      <td>alice springs</td>\n",
       "      <td>AU</td>\n",
       "      <td>-23.7000</td>\n",
       "      <td>133.8833</td>\n",
       "      <td>0</td>\n",
       "      <td>42</td>\n",
       "      <td>0.51</td>\n",
       "      <td>No-hotel-found</td>\n",
       "    </tr>\n",
       "    <tr>\n",
       "      <th>31</th>\n",
       "      <td>mayo</td>\n",
       "      <td>US</td>\n",
       "      <td>38.8876</td>\n",
       "      <td>-76.5119</td>\n",
       "      <td>0</td>\n",
       "      <td>51</td>\n",
       "      <td>3.09</td>\n",
       "      <td>No-hotel-found</td>\n",
       "    </tr>\n",
       "    <tr>\n",
       "      <th>32</th>\n",
       "      <td>burnie</td>\n",
       "      <td>AU</td>\n",
       "      <td>-41.0667</td>\n",
       "      <td>145.9167</td>\n",
       "      <td>4</td>\n",
       "      <td>65</td>\n",
       "      <td>3.39</td>\n",
       "      <td>No-hotel-found</td>\n",
       "    </tr>\n",
       "    <tr>\n",
       "      <th>33</th>\n",
       "      <td>tete</td>\n",
       "      <td>MZ</td>\n",
       "      <td>-16.1564</td>\n",
       "      <td>33.5867</td>\n",
       "      <td>0</td>\n",
       "      <td>46</td>\n",
       "      <td>5.14</td>\n",
       "      <td>No-hotel-found</td>\n",
       "    </tr>\n",
       "    <tr>\n",
       "      <th>34</th>\n",
       "      <td>broome</td>\n",
       "      <td>US</td>\n",
       "      <td>42.2506</td>\n",
       "      <td>-75.8330</td>\n",
       "      <td>0</td>\n",
       "      <td>63</td>\n",
       "      <td>2.06</td>\n",
       "      <td>No-hotel-found</td>\n",
       "    </tr>\n",
       "    <tr>\n",
       "      <th>35</th>\n",
       "      <td>pidhorodne</td>\n",
       "      <td>UA</td>\n",
       "      <td>48.5753</td>\n",
       "      <td>35.1068</td>\n",
       "      <td>5</td>\n",
       "      <td>46</td>\n",
       "      <td>5.85</td>\n",
       "      <td>دیزی سرای بزباش</td>\n",
       "    </tr>\n",
       "    <tr>\n",
       "      <th>36</th>\n",
       "      <td>karratha</td>\n",
       "      <td>AU</td>\n",
       "      <td>-20.7377</td>\n",
       "      <td>116.8463</td>\n",
       "      <td>1</td>\n",
       "      <td>46</td>\n",
       "      <td>4.36</td>\n",
       "      <td>No-hotel-found</td>\n",
       "    </tr>\n",
       "    <tr>\n",
       "      <th>37</th>\n",
       "      <td>hutchinson</td>\n",
       "      <td>US</td>\n",
       "      <td>38.0608</td>\n",
       "      <td>-97.9298</td>\n",
       "      <td>0</td>\n",
       "      <td>41</td>\n",
       "      <td>1.54</td>\n",
       "      <td>No-hotel-found</td>\n",
       "    </tr>\n",
       "    <tr>\n",
       "      <th>38</th>\n",
       "      <td>media luna</td>\n",
       "      <td>CU</td>\n",
       "      <td>20.1419</td>\n",
       "      <td>-77.4350</td>\n",
       "      <td>2</td>\n",
       "      <td>51</td>\n",
       "      <td>9.57</td>\n",
       "      <td>No-hotel-found</td>\n",
       "    </tr>\n",
       "    <tr>\n",
       "      <th>39</th>\n",
       "      <td>fare</td>\n",
       "      <td>PF</td>\n",
       "      <td>-16.7000</td>\n",
       "      <td>-151.0167</td>\n",
       "      <td>4</td>\n",
       "      <td>69</td>\n",
       "      <td>6.82</td>\n",
       "      <td>No-hotel-found</td>\n",
       "    </tr>\n",
       "    <tr>\n",
       "      <th>40</th>\n",
       "      <td>mar del plata</td>\n",
       "      <td>AR</td>\n",
       "      <td>-38.0023</td>\n",
       "      <td>-57.5575</td>\n",
       "      <td>0</td>\n",
       "      <td>60</td>\n",
       "      <td>4.63</td>\n",
       "      <td>No-hotel-found</td>\n",
       "    </tr>\n",
       "    <tr>\n",
       "      <th>41</th>\n",
       "      <td>saint anthony</td>\n",
       "      <td>US</td>\n",
       "      <td>45.0205</td>\n",
       "      <td>-93.2180</td>\n",
       "      <td>0</td>\n",
       "      <td>53</td>\n",
       "      <td>5.14</td>\n",
       "      <td>No-hotel-found</td>\n",
       "    </tr>\n",
       "    <tr>\n",
       "      <th>42</th>\n",
       "      <td>guozhen</td>\n",
       "      <td>CN</td>\n",
       "      <td>34.3659</td>\n",
       "      <td>107.3590</td>\n",
       "      <td>0</td>\n",
       "      <td>49</td>\n",
       "      <td>0.33</td>\n",
       "      <td>No-hotel-found</td>\n",
       "    </tr>\n",
       "    <tr>\n",
       "      <th>43</th>\n",
       "      <td>sayyan</td>\n",
       "      <td>YE</td>\n",
       "      <td>15.1718</td>\n",
       "      <td>44.3244</td>\n",
       "      <td>2</td>\n",
       "      <td>41</td>\n",
       "      <td>1.78</td>\n",
       "      <td>Mornar</td>\n",
       "    </tr>\n",
       "    <tr>\n",
       "      <th>44</th>\n",
       "      <td>moree</td>\n",
       "      <td>AU</td>\n",
       "      <td>-29.4667</td>\n",
       "      <td>149.8500</td>\n",
       "      <td>0</td>\n",
       "      <td>52</td>\n",
       "      <td>3.13</td>\n",
       "      <td>No-hotel-found</td>\n",
       "    </tr>\n",
       "    <tr>\n",
       "      <th>45</th>\n",
       "      <td>vermilion</td>\n",
       "      <td>US</td>\n",
       "      <td>40.1667</td>\n",
       "      <td>-87.7506</td>\n",
       "      <td>0</td>\n",
       "      <td>45</td>\n",
       "      <td>6.69</td>\n",
       "      <td>No-hotel-found</td>\n",
       "    </tr>\n",
       "    <tr>\n",
       "      <th>46</th>\n",
       "      <td>wagar</td>\n",
       "      <td>SD</td>\n",
       "      <td>16.1525</td>\n",
       "      <td>36.2032</td>\n",
       "      <td>0</td>\n",
       "      <td>68</td>\n",
       "      <td>5.57</td>\n",
       "      <td>No-hotel-found</td>\n",
       "    </tr>\n",
       "    <tr>\n",
       "      <th>47</th>\n",
       "      <td>fort pierce</td>\n",
       "      <td>US</td>\n",
       "      <td>27.4467</td>\n",
       "      <td>-80.3256</td>\n",
       "      <td>0</td>\n",
       "      <td>65</td>\n",
       "      <td>4.02</td>\n",
       "      <td>No-hotel-found</td>\n",
       "    </tr>\n",
       "    <tr>\n",
       "      <th>48</th>\n",
       "      <td>dhaka</td>\n",
       "      <td>BD</td>\n",
       "      <td>23.7104</td>\n",
       "      <td>90.4074</td>\n",
       "      <td>0</td>\n",
       "      <td>68</td>\n",
       "      <td>0.00</td>\n",
       "      <td>No-hotel-found</td>\n",
       "    </tr>\n",
       "  </tbody>\n",
       "</table>\n",
       "</div>"
      ],
      "text/plain": [
       "                         City Country      Lat       Lng  Cloudiness  \\\n",
       "0                      bethel      US  41.3712  -73.4140           0   \n",
       "1                   jamestown      US  42.0970  -79.2353           0   \n",
       "2                      bowral      AU -34.4667  150.4167           8   \n",
       "3              cabo san lucas      MX  22.8909 -109.9124           0   \n",
       "4                   cape town      ZA -33.9258   18.4232           0   \n",
       "5                    tasiilaq      GL  65.6145  -37.6368           5   \n",
       "6                         gat      IL  31.6100   34.7642           0   \n",
       "7                    salvador      SV  13.8333  -88.9167           0   \n",
       "8                 volodarskiy      RU  46.4013   48.5409           5   \n",
       "9                    westport      US  41.1415  -73.3579           0   \n",
       "10                    xiaoshi      CN  41.2971  124.1209           0   \n",
       "11                   brainerd      US  46.3580  -94.2008           0   \n",
       "12                     baiyin      CN  36.5583  104.2081           0   \n",
       "13              waris aliganj      IN  25.0167   85.6333           2   \n",
       "14                 talcahuano      CL -36.7167  -73.1167           0   \n",
       "15               saint george      US  37.1041 -113.5841           0   \n",
       "16                     winder      US  33.9926  -83.7202           0   \n",
       "17                    ahipara      NZ -35.1667  173.1667           0   \n",
       "18                   chabahar      IR  25.2919   60.6430           0   \n",
       "19                    ashland      US  40.8167  -82.2665           0   \n",
       "20  petropavlovsk-kamchatskiy      RU  53.0452  158.6483           0   \n",
       "21                    birjand      IR  32.8663   59.2211           0   \n",
       "22                  ketchikan      US  55.3422 -131.6461           0   \n",
       "23                 rock sound      BS  24.9000  -76.2000           3   \n",
       "24                       peru      US  40.7537  -86.0689           0   \n",
       "25                       fasa      IR  28.9383   53.6482           0   \n",
       "26                mujiayingzi      CN  42.1167  118.7833           0   \n",
       "27                   necochea      AR -38.5473  -58.7368           2   \n",
       "28                   manutuke      NZ -38.6833  177.9167           4   \n",
       "29                      nizwa      OM  22.9333   57.5333           0   \n",
       "30              alice springs      AU -23.7000  133.8833           0   \n",
       "31                       mayo      US  38.8876  -76.5119           0   \n",
       "32                     burnie      AU -41.0667  145.9167           4   \n",
       "33                       tete      MZ -16.1564   33.5867           0   \n",
       "34                     broome      US  42.2506  -75.8330           0   \n",
       "35                 pidhorodne      UA  48.5753   35.1068           5   \n",
       "36                   karratha      AU -20.7377  116.8463           1   \n",
       "37                 hutchinson      US  38.0608  -97.9298           0   \n",
       "38                 media luna      CU  20.1419  -77.4350           2   \n",
       "39                       fare      PF -16.7000 -151.0167           4   \n",
       "40              mar del plata      AR -38.0023  -57.5575           0   \n",
       "41              saint anthony      US  45.0205  -93.2180           0   \n",
       "42                    guozhen      CN  34.3659  107.3590           0   \n",
       "43                     sayyan      YE  15.1718   44.3244           2   \n",
       "44                      moree      AU -29.4667  149.8500           0   \n",
       "45                  vermilion      US  40.1667  -87.7506           0   \n",
       "46                      wagar      SD  16.1525   36.2032           0   \n",
       "47                fort pierce      US  27.4467  -80.3256           0   \n",
       "48                      dhaka      BD  23.7104   90.4074           0   \n",
       "\n",
       "    Humidity  Wind Speed        Hotel Name  \n",
       "0         51        1.54    No-hotel-found  \n",
       "1         44        6.17    No-hotel-found  \n",
       "2         45        3.63    No-hotel-found  \n",
       "3         61        2.06    No-hotel-found  \n",
       "4         64        6.17    No-hotel-found  \n",
       "5         65        1.45    No-hotel-found  \n",
       "6         64        2.20    No-hotel-found  \n",
       "7         42        1.78    No-hotel-found  \n",
       "8         51        4.19          Znamensk  \n",
       "9         48        2.57    No-hotel-found  \n",
       "10        67        1.30    No-hotel-found  \n",
       "11        47        5.66    No-hotel-found  \n",
       "12        43        1.10    No-hotel-found  \n",
       "13        49        2.56    No-hotel-found  \n",
       "14        56        8.23    No-hotel-found  \n",
       "15        43        1.34    No-hotel-found  \n",
       "16        60        2.06    No-hotel-found  \n",
       "17        60        1.48    No-hotel-found  \n",
       "18        48        2.15  Ravintola Kalash  \n",
       "19        48        4.48    No-hotel-found  \n",
       "20        66        6.00    No-hotel-found  \n",
       "21        48        3.09    No-hotel-found  \n",
       "22        69        5.66    No-hotel-found  \n",
       "23        63        7.91    No-hotel-found  \n",
       "24        46        5.14    No-hotel-found  \n",
       "25        54        0.00    No-hotel-found  \n",
       "26        44        2.96    No-hotel-found  \n",
       "27        68        4.29    No-hotel-found  \n",
       "28        45        2.04    No-hotel-found  \n",
       "29        63        0.93    Mare Restorāns  \n",
       "30        42        0.51    No-hotel-found  \n",
       "31        51        3.09    No-hotel-found  \n",
       "32        65        3.39    No-hotel-found  \n",
       "33        46        5.14    No-hotel-found  \n",
       "34        63        2.06    No-hotel-found  \n",
       "35        46        5.85   دیزی سرای بزباش  \n",
       "36        46        4.36    No-hotel-found  \n",
       "37        41        1.54    No-hotel-found  \n",
       "38        51        9.57    No-hotel-found  \n",
       "39        69        6.82    No-hotel-found  \n",
       "40        60        4.63    No-hotel-found  \n",
       "41        53        5.14    No-hotel-found  \n",
       "42        49        0.33    No-hotel-found  \n",
       "43        41        1.78            Mornar  \n",
       "44        52        3.13    No-hotel-found  \n",
       "45        45        6.69    No-hotel-found  \n",
       "46        68        5.57    No-hotel-found  \n",
       "47        65        4.02    No-hotel-found  \n",
       "48        68        0.00    No-hotel-found  "
      ]
     },
     "execution_count": 52,
     "metadata": {},
     "output_type": "execute_result"
    }
   ],
   "source": [
    "# Set parameters to search for a hotel\n",
    "#https://api.geoapify.com/v2/places?categories=&conditions=wheelchair&filter=circle:-75.1651784,39.9527267,5000&bias=proximity:-75.1651784,39.9527267&limit=20&apiKey=YOUR_API_KEY\n",
    "radius = 10000\n",
    "params = {\n",
    "    \"rankby\": \"distance\",\n",
    "    \"type\": \"restaurant\",\n",
    "    \"categories\": \"catering.restaurant\",\n",
    "    \"apiKey\": geoapify_key,\n",
    "    \"distance\": radius\n",
    "}\n",
    "\n",
    "# Print a message to follow up the hotel search\n",
    "print(\"Starting hotel search\")\n",
    "\n",
    "# Iterate through the hotel_df DataFrame\n",
    "for index, row in hotel_df.iterrows():\n",
    "    # get latitude, longitude from the DataFrame\n",
    "    lat = row[\"Lat\"]\n",
    "    lon = row[\"Lng\"]\n",
    "    \n",
    "    # Add filter and bias parameters with the current city's latitude and longitude to the params dictionary\n",
    "    #params[\"filter\"] = f'circle:{lat},{lon}'\n",
    "    params[\"bias\"] = f'proximity:{lat},{lon}'\n",
    "    \n",
    "    # Set base URL\n",
    "    base_url = \"https://api.geoapify.com/v2/places\"\n",
    "    \n",
    "        # Make and API request using the params dictionary\n",
    "    name_address = requests.get(base_url, params=params).json()\n",
    "    \n",
    "    # Convert the API response to JSON format\n",
    "    #name_address = # YOUR CODE HERE\n",
    "    \n",
    "    # Grab the first hotel from the results and store the name in the hotel_df DataFrame\n",
    "    try:\n",
    "        hotel_df.loc[index, \"Hotel Name\"] = name_address[\"features\"][0][\"properties\"][\"name\"]\n",
    "    except (KeyError, IndexError):\n",
    "        # If no hotel is found, set the hotel name as \"No hotel found\".\n",
    "        hotel_df.loc[index, \"Hotel Name\"] = \"No-hotel-found\"\n",
    "        \n",
    "    # Log the search results\n",
    "    print(f\"{hotel_df.loc[index, 'City']} - nearest hotel: {hotel_df.loc[index, 'Hotel Name']}\")\n",
    "\n",
    "# Display sample data\n",
    "hotel_df"
   ]
  },
  {
   "cell_type": "markdown",
   "metadata": {},
   "source": [
    "### Step 5: Add the hotel name and the country as additional information in the hover message for each city in the map."
   ]
  },
  {
   "cell_type": "code",
   "execution_count": 58,
   "metadata": {},
   "outputs": [
    {
     "data": {
      "application/vnd.plotly.v1+json": {
       "config": {
        "plotlyServerURL": "https://plot.ly"
       },
       "data": [
        {
         "geo": "geo",
         "hovertemplate": "Hotel Name=%{text}<br>Lat=%{lat}<br>Lng=%{lon}<extra></extra>",
         "lat": [
          46.4013,
          25.2919,
          22.9333,
          48.5753,
          15.1718
         ],
         "legendgroup": "",
         "lon": [
          48.5409,
          60.643,
          57.5333,
          35.1068,
          44.3244
         ],
         "marker": {
          "color": "#636efa",
          "symbol": "circle"
         },
         "mode": "markers+text",
         "name": "",
         "showlegend": false,
         "text": [
          "Znamensk",
          "Ravintola Kalash",
          "Mare Restorāns",
          "دیزی سرای بزباش",
          "Mornar"
         ],
         "type": "scattergeo"
        }
       ],
       "layout": {
        "geo": {
         "center": {},
         "domain": {
          "x": [
           0,
           1
          ],
          "y": [
           0,
           1
          ]
         }
        },
        "legend": {
         "tracegroupgap": 0
        },
        "margin": {
         "t": 60
        },
        "template": {
         "data": {
          "bar": [
           {
            "error_x": {
             "color": "#2a3f5f"
            },
            "error_y": {
             "color": "#2a3f5f"
            },
            "marker": {
             "line": {
              "color": "#E5ECF6",
              "width": 0.5
             },
             "pattern": {
              "fillmode": "overlay",
              "size": 10,
              "solidity": 0.2
             }
            },
            "type": "bar"
           }
          ],
          "barpolar": [
           {
            "marker": {
             "line": {
              "color": "#E5ECF6",
              "width": 0.5
             },
             "pattern": {
              "fillmode": "overlay",
              "size": 10,
              "solidity": 0.2
             }
            },
            "type": "barpolar"
           }
          ],
          "carpet": [
           {
            "aaxis": {
             "endlinecolor": "#2a3f5f",
             "gridcolor": "white",
             "linecolor": "white",
             "minorgridcolor": "white",
             "startlinecolor": "#2a3f5f"
            },
            "baxis": {
             "endlinecolor": "#2a3f5f",
             "gridcolor": "white",
             "linecolor": "white",
             "minorgridcolor": "white",
             "startlinecolor": "#2a3f5f"
            },
            "type": "carpet"
           }
          ],
          "choropleth": [
           {
            "colorbar": {
             "outlinewidth": 0,
             "ticks": ""
            },
            "type": "choropleth"
           }
          ],
          "contour": [
           {
            "colorbar": {
             "outlinewidth": 0,
             "ticks": ""
            },
            "colorscale": [
             [
              0,
              "#0d0887"
             ],
             [
              0.1111111111111111,
              "#46039f"
             ],
             [
              0.2222222222222222,
              "#7201a8"
             ],
             [
              0.3333333333333333,
              "#9c179e"
             ],
             [
              0.4444444444444444,
              "#bd3786"
             ],
             [
              0.5555555555555556,
              "#d8576b"
             ],
             [
              0.6666666666666666,
              "#ed7953"
             ],
             [
              0.7777777777777778,
              "#fb9f3a"
             ],
             [
              0.8888888888888888,
              "#fdca26"
             ],
             [
              1,
              "#f0f921"
             ]
            ],
            "type": "contour"
           }
          ],
          "contourcarpet": [
           {
            "colorbar": {
             "outlinewidth": 0,
             "ticks": ""
            },
            "type": "contourcarpet"
           }
          ],
          "heatmap": [
           {
            "colorbar": {
             "outlinewidth": 0,
             "ticks": ""
            },
            "colorscale": [
             [
              0,
              "#0d0887"
             ],
             [
              0.1111111111111111,
              "#46039f"
             ],
             [
              0.2222222222222222,
              "#7201a8"
             ],
             [
              0.3333333333333333,
              "#9c179e"
             ],
             [
              0.4444444444444444,
              "#bd3786"
             ],
             [
              0.5555555555555556,
              "#d8576b"
             ],
             [
              0.6666666666666666,
              "#ed7953"
             ],
             [
              0.7777777777777778,
              "#fb9f3a"
             ],
             [
              0.8888888888888888,
              "#fdca26"
             ],
             [
              1,
              "#f0f921"
             ]
            ],
            "type": "heatmap"
           }
          ],
          "heatmapgl": [
           {
            "colorbar": {
             "outlinewidth": 0,
             "ticks": ""
            },
            "colorscale": [
             [
              0,
              "#0d0887"
             ],
             [
              0.1111111111111111,
              "#46039f"
             ],
             [
              0.2222222222222222,
              "#7201a8"
             ],
             [
              0.3333333333333333,
              "#9c179e"
             ],
             [
              0.4444444444444444,
              "#bd3786"
             ],
             [
              0.5555555555555556,
              "#d8576b"
             ],
             [
              0.6666666666666666,
              "#ed7953"
             ],
             [
              0.7777777777777778,
              "#fb9f3a"
             ],
             [
              0.8888888888888888,
              "#fdca26"
             ],
             [
              1,
              "#f0f921"
             ]
            ],
            "type": "heatmapgl"
           }
          ],
          "histogram": [
           {
            "marker": {
             "pattern": {
              "fillmode": "overlay",
              "size": 10,
              "solidity": 0.2
             }
            },
            "type": "histogram"
           }
          ],
          "histogram2d": [
           {
            "colorbar": {
             "outlinewidth": 0,
             "ticks": ""
            },
            "colorscale": [
             [
              0,
              "#0d0887"
             ],
             [
              0.1111111111111111,
              "#46039f"
             ],
             [
              0.2222222222222222,
              "#7201a8"
             ],
             [
              0.3333333333333333,
              "#9c179e"
             ],
             [
              0.4444444444444444,
              "#bd3786"
             ],
             [
              0.5555555555555556,
              "#d8576b"
             ],
             [
              0.6666666666666666,
              "#ed7953"
             ],
             [
              0.7777777777777778,
              "#fb9f3a"
             ],
             [
              0.8888888888888888,
              "#fdca26"
             ],
             [
              1,
              "#f0f921"
             ]
            ],
            "type": "histogram2d"
           }
          ],
          "histogram2dcontour": [
           {
            "colorbar": {
             "outlinewidth": 0,
             "ticks": ""
            },
            "colorscale": [
             [
              0,
              "#0d0887"
             ],
             [
              0.1111111111111111,
              "#46039f"
             ],
             [
              0.2222222222222222,
              "#7201a8"
             ],
             [
              0.3333333333333333,
              "#9c179e"
             ],
             [
              0.4444444444444444,
              "#bd3786"
             ],
             [
              0.5555555555555556,
              "#d8576b"
             ],
             [
              0.6666666666666666,
              "#ed7953"
             ],
             [
              0.7777777777777778,
              "#fb9f3a"
             ],
             [
              0.8888888888888888,
              "#fdca26"
             ],
             [
              1,
              "#f0f921"
             ]
            ],
            "type": "histogram2dcontour"
           }
          ],
          "mesh3d": [
           {
            "colorbar": {
             "outlinewidth": 0,
             "ticks": ""
            },
            "type": "mesh3d"
           }
          ],
          "parcoords": [
           {
            "line": {
             "colorbar": {
              "outlinewidth": 0,
              "ticks": ""
             }
            },
            "type": "parcoords"
           }
          ],
          "pie": [
           {
            "automargin": true,
            "type": "pie"
           }
          ],
          "scatter": [
           {
            "fillpattern": {
             "fillmode": "overlay",
             "size": 10,
             "solidity": 0.2
            },
            "type": "scatter"
           }
          ],
          "scatter3d": [
           {
            "line": {
             "colorbar": {
              "outlinewidth": 0,
              "ticks": ""
             }
            },
            "marker": {
             "colorbar": {
              "outlinewidth": 0,
              "ticks": ""
             }
            },
            "type": "scatter3d"
           }
          ],
          "scattercarpet": [
           {
            "marker": {
             "colorbar": {
              "outlinewidth": 0,
              "ticks": ""
             }
            },
            "type": "scattercarpet"
           }
          ],
          "scattergeo": [
           {
            "marker": {
             "colorbar": {
              "outlinewidth": 0,
              "ticks": ""
             }
            },
            "type": "scattergeo"
           }
          ],
          "scattergl": [
           {
            "marker": {
             "colorbar": {
              "outlinewidth": 0,
              "ticks": ""
             }
            },
            "type": "scattergl"
           }
          ],
          "scattermapbox": [
           {
            "marker": {
             "colorbar": {
              "outlinewidth": 0,
              "ticks": ""
             }
            },
            "type": "scattermapbox"
           }
          ],
          "scatterpolar": [
           {
            "marker": {
             "colorbar": {
              "outlinewidth": 0,
              "ticks": ""
             }
            },
            "type": "scatterpolar"
           }
          ],
          "scatterpolargl": [
           {
            "marker": {
             "colorbar": {
              "outlinewidth": 0,
              "ticks": ""
             }
            },
            "type": "scatterpolargl"
           }
          ],
          "scatterternary": [
           {
            "marker": {
             "colorbar": {
              "outlinewidth": 0,
              "ticks": ""
             }
            },
            "type": "scatterternary"
           }
          ],
          "surface": [
           {
            "colorbar": {
             "outlinewidth": 0,
             "ticks": ""
            },
            "colorscale": [
             [
              0,
              "#0d0887"
             ],
             [
              0.1111111111111111,
              "#46039f"
             ],
             [
              0.2222222222222222,
              "#7201a8"
             ],
             [
              0.3333333333333333,
              "#9c179e"
             ],
             [
              0.4444444444444444,
              "#bd3786"
             ],
             [
              0.5555555555555556,
              "#d8576b"
             ],
             [
              0.6666666666666666,
              "#ed7953"
             ],
             [
              0.7777777777777778,
              "#fb9f3a"
             ],
             [
              0.8888888888888888,
              "#fdca26"
             ],
             [
              1,
              "#f0f921"
             ]
            ],
            "type": "surface"
           }
          ],
          "table": [
           {
            "cells": {
             "fill": {
              "color": "#EBF0F8"
             },
             "line": {
              "color": "white"
             }
            },
            "header": {
             "fill": {
              "color": "#C8D4E3"
             },
             "line": {
              "color": "white"
             }
            },
            "type": "table"
           }
          ]
         },
         "layout": {
          "annotationdefaults": {
           "arrowcolor": "#2a3f5f",
           "arrowhead": 0,
           "arrowwidth": 1
          },
          "autotypenumbers": "strict",
          "coloraxis": {
           "colorbar": {
            "outlinewidth": 0,
            "ticks": ""
           }
          },
          "colorscale": {
           "diverging": [
            [
             0,
             "#8e0152"
            ],
            [
             0.1,
             "#c51b7d"
            ],
            [
             0.2,
             "#de77ae"
            ],
            [
             0.3,
             "#f1b6da"
            ],
            [
             0.4,
             "#fde0ef"
            ],
            [
             0.5,
             "#f7f7f7"
            ],
            [
             0.6,
             "#e6f5d0"
            ],
            [
             0.7,
             "#b8e186"
            ],
            [
             0.8,
             "#7fbc41"
            ],
            [
             0.9,
             "#4d9221"
            ],
            [
             1,
             "#276419"
            ]
           ],
           "sequential": [
            [
             0,
             "#0d0887"
            ],
            [
             0.1111111111111111,
             "#46039f"
            ],
            [
             0.2222222222222222,
             "#7201a8"
            ],
            [
             0.3333333333333333,
             "#9c179e"
            ],
            [
             0.4444444444444444,
             "#bd3786"
            ],
            [
             0.5555555555555556,
             "#d8576b"
            ],
            [
             0.6666666666666666,
             "#ed7953"
            ],
            [
             0.7777777777777778,
             "#fb9f3a"
            ],
            [
             0.8888888888888888,
             "#fdca26"
            ],
            [
             1,
             "#f0f921"
            ]
           ],
           "sequentialminus": [
            [
             0,
             "#0d0887"
            ],
            [
             0.1111111111111111,
             "#46039f"
            ],
            [
             0.2222222222222222,
             "#7201a8"
            ],
            [
             0.3333333333333333,
             "#9c179e"
            ],
            [
             0.4444444444444444,
             "#bd3786"
            ],
            [
             0.5555555555555556,
             "#d8576b"
            ],
            [
             0.6666666666666666,
             "#ed7953"
            ],
            [
             0.7777777777777778,
             "#fb9f3a"
            ],
            [
             0.8888888888888888,
             "#fdca26"
            ],
            [
             1,
             "#f0f921"
            ]
           ]
          },
          "colorway": [
           "#636efa",
           "#EF553B",
           "#00cc96",
           "#ab63fa",
           "#FFA15A",
           "#19d3f3",
           "#FF6692",
           "#B6E880",
           "#FF97FF",
           "#FECB52"
          ],
          "font": {
           "color": "#2a3f5f"
          },
          "geo": {
           "bgcolor": "white",
           "lakecolor": "white",
           "landcolor": "#E5ECF6",
           "showlakes": true,
           "showland": true,
           "subunitcolor": "white"
          },
          "hoverlabel": {
           "align": "left"
          },
          "hovermode": "closest",
          "mapbox": {
           "style": "light"
          },
          "paper_bgcolor": "white",
          "plot_bgcolor": "#E5ECF6",
          "polar": {
           "angularaxis": {
            "gridcolor": "white",
            "linecolor": "white",
            "ticks": ""
           },
           "bgcolor": "#E5ECF6",
           "radialaxis": {
            "gridcolor": "white",
            "linecolor": "white",
            "ticks": ""
           }
          },
          "scene": {
           "xaxis": {
            "backgroundcolor": "#E5ECF6",
            "gridcolor": "white",
            "gridwidth": 2,
            "linecolor": "white",
            "showbackground": true,
            "ticks": "",
            "zerolinecolor": "white"
           },
           "yaxis": {
            "backgroundcolor": "#E5ECF6",
            "gridcolor": "white",
            "gridwidth": 2,
            "linecolor": "white",
            "showbackground": true,
            "ticks": "",
            "zerolinecolor": "white"
           },
           "zaxis": {
            "backgroundcolor": "#E5ECF6",
            "gridcolor": "white",
            "gridwidth": 2,
            "linecolor": "white",
            "showbackground": true,
            "ticks": "",
            "zerolinecolor": "white"
           }
          },
          "shapedefaults": {
           "line": {
            "color": "#2a3f5f"
           }
          },
          "ternary": {
           "aaxis": {
            "gridcolor": "white",
            "linecolor": "white",
            "ticks": ""
           },
           "baxis": {
            "gridcolor": "white",
            "linecolor": "white",
            "ticks": ""
           },
           "bgcolor": "#E5ECF6",
           "caxis": {
            "gridcolor": "white",
            "linecolor": "white",
            "ticks": ""
           }
          },
          "title": {
           "x": 0.05
          },
          "xaxis": {
           "automargin": true,
           "gridcolor": "white",
           "linecolor": "white",
           "ticks": "",
           "title": {
            "standoff": 15
           },
           "zerolinecolor": "white",
           "zerolinewidth": 2
          },
          "yaxis": {
           "automargin": true,
           "gridcolor": "white",
           "linecolor": "white",
           "ticks": "",
           "title": {
            "standoff": 15
           },
           "zerolinecolor": "white",
           "zerolinewidth": 2
          }
         }
        }
       }
      }
     },
     "metadata": {},
     "output_type": "display_data"
    }
   ],
   "source": [
    "# Configure the map plot\n",
    "hotel_found_df =  hotel_df.drop(hotel_df[hotel_df['Hotel Name'] == 'No-hotel-found'].index)\n",
    "hotel_found_df['hover'] = hotel_found_df['City'] + '' + hotel_found_df['Country']\n",
    "\n",
    "fig = px.scatter_geo(hotel_found_df,\n",
    "                    lat=hotel_found_df.Lat,\n",
    "                    lon=hotel_found_df.Lng,\n",
    "                    text=hotel_found_df['Hotel Name'])\n",
    "\n",
    "# Display the map\n",
    "fig.show()"
   ]
  }
 ],
 "metadata": {
  "kernelspec": {
   "display_name": "dev",
   "language": "python",
   "name": "python3"
  },
  "language_info": {
   "codemirror_mode": {
    "name": "ipython",
    "version": 3
   },
   "file_extension": ".py",
   "mimetype": "text/x-python",
   "name": "python",
   "nbconvert_exporter": "python",
   "pygments_lexer": "ipython3",
   "version": "3.10.6"
  },
  "latex_envs": {
   "LaTeX_envs_menu_present": true,
   "autoclose": false,
   "autocomplete": true,
   "bibliofile": "biblio.bib",
   "cite_by": "apalike",
   "current_citInitial": 1,
   "eqLabelWithNumbers": true,
   "eqNumInitial": 1,
   "hotkeys": {
    "equation": "Ctrl-E",
    "itemize": "Ctrl-I"
   },
   "labels_anchors": false,
   "latex_user_defs": false,
   "report_style_numbering": false,
   "user_envs_cfg": false
  },
  "vscode": {
   "interpreter": {
    "hash": "e74039710f3605cf800ca7c360fc37a1843ba9431f9c810f09ce7f35e0833829"
   }
  }
 },
 "nbformat": 4,
 "nbformat_minor": 4
}
